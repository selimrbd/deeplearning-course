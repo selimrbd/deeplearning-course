{
 "cells": [
  {
   "cell_type": "code",
   "execution_count": 1,
   "metadata": {},
   "outputs": [],
   "source": [
    "sys.path.append('..')\n",
    "from utils.planar_utils import load_planar_dataset\n",
    "import numpy as np\n",
    "import matplotlib.pyplot as plt\n",
    "from pathlib import Path\n",
    "import joblib\n",
    "import random\n",
    "\n",
    "np.random.seed(42)\n"
   ]
  },
  {
   "cell_type": "markdown",
   "metadata": {},
   "source": [
    "# TRAIN A 1-HIDDEN-LAYER NEURAL NETWORK"
   ]
  },
  {
   "cell_type": "markdown",
   "metadata": {},
   "source": [
    "## helper functions"
   ]
  },
  {
   "cell_type": "code",
   "execution_count": 2,
   "metadata": {},
   "outputs": [],
   "source": [
    "def sigmoid(z):\n",
    "    return 1 / (1 + np.exp(-z))"
   ]
  },
  {
   "cell_type": "markdown",
   "metadata": {},
   "source": [
    "## load data"
   ]
  },
  {
   "cell_type": "code",
   "execution_count": 3,
   "metadata": {},
   "outputs": [],
   "source": [
    "## CATVSNONCAT DATASET ##\n",
    "###########################\n",
    "def load_data():\n",
    "    \"\"\"\n",
    "    Load the train and test set.\n",
    "\n",
    "    Returns:\n",
    "        - (X_train, Y_train, X_test, Y_test)\n",
    "    \"\"\"\n",
    "\n",
    "    path = Path('../../data/catvnoncat/data.pkl')\n",
    "    with open(path, \"rb\") as f:\n",
    "        data = joblib.load(f)\n",
    "\n",
    "    X_train = data[\"train_set_x\"]\n",
    "    Y_train = data[\"train_set_y\"]\n",
    "    X_test = data[\"test_set_x\"]\n",
    "    Y_test = data[\"test_set_y\"]\n",
    "\n",
    "    return X_train, Y_train, X_test, Y_test\n",
    "############################\n",
    "############################"
   ]
  },
  {
   "cell_type": "code",
   "execution_count": 4,
   "metadata": {},
   "outputs": [],
   "source": [
    "# ## FLOWER DATASET ## \n",
    "# ####################\n",
    "\n",
    "# def load_data():\n",
    "#     \"\"\"\n",
    "#     Load the train and test set.\n",
    "\n",
    "#     Returns:\n",
    "#         - (X_train, Y_train, X_test, Y_test)\n",
    "#     \"\"\"\n",
    "\n",
    "#     X, Y = load_planar_dataset()\n",
    "\n",
    "#     ## train / test split\n",
    "#     m = X.shape[1]\n",
    "#     pct_test = 0.20\n",
    "#     m_test = int(m * pct_test)\n",
    "#     idx_test = np.random.choice(m, size=m_test, replace=False)\n",
    "#     idx_train = [i for i in range(m) if i not in idx_test]\n",
    "#     X_train = X[:, idx_train]\n",
    "#     Y_train = Y[:, idx_train]\n",
    "#     X_test = X[:, idx_test]\n",
    "#     Y_test = Y[:, idx_test]\n",
    "\n",
    "#     return X_train, Y_train, X_test, Y_test\n",
    "\n",
    "# ####################\n",
    "# ####################"
   ]
  },
  {
   "cell_type": "code",
   "execution_count": 5,
   "metadata": {},
   "outputs": [
    {
     "name": "stdout",
     "output_type": "stream",
     "text": [
      "X_train_orig shape: (209, 64, 64, 3)\n",
      "Y_train_orig shape: (209,)\n",
      "X_test_orig shape: (50, 64, 64, 3)\n",
      "Y_test_orig shape: (50,)\n"
     ]
    }
   ],
   "source": [
    "X_train_orig, Y_train_orig, X_test_orig, Y_test_orig = load_data()\n",
    "\n",
    "print(f\"X_train_orig shape: {X_train_orig.shape}\")\n",
    "print(f\"Y_train_orig shape: {Y_train_orig.shape}\")\n",
    "print(f\"X_test_orig shape: {X_test_orig.shape}\")\n",
    "print(f\"Y_test_orig shape: {Y_test_orig.shape}\")"
   ]
  },
  {
   "cell_type": "markdown",
   "metadata": {},
   "source": [
    "## visualize data"
   ]
  },
  {
   "cell_type": "code",
   "execution_count": 6,
   "metadata": {},
   "outputs": [],
   "source": [
    "## CATVSNONCAT DATASET ##\n",
    "#########################\n",
    "def visualize_data(X, Y):\n",
    "    \"\"\"\n",
    "    Displays a random image with its label\n",
    "    \"\"\"\n",
    "    m = X.shape[0]\n",
    "    i = random.randint(0, m-1)\n",
    "    x = X[i]\n",
    "    y = Y[i]\n",
    "    labels = {0: \"non-cat\", 1: \"cat\"}\n",
    "    print(f'label: {labels[y]}')\n",
    "    plt.imshow(x)\n",
    "####################\n",
    "####################"
   ]
  },
  {
   "cell_type": "code",
   "execution_count": 7,
   "metadata": {},
   "outputs": [],
   "source": [
    "# ## FLOWER DATASET ##\n",
    "# ####################\n",
    "# def visualize_data(X, Y):\n",
    "#     \"\"\"\n",
    "#     Displays a random image with its label\n",
    "#     \"\"\"\n",
    "#     plt.scatter(X[0, :], X[1, :], c=Y, s=40, cmap=plt.cm.cividis)\n",
    "# ####################\n",
    "# ####################"
   ]
  },
  {
   "cell_type": "code",
   "execution_count": 8,
   "metadata": {},
   "outputs": [
    {
     "name": "stdout",
     "output_type": "stream",
     "text": [
      "label: non-cat\n"
     ]
    },
    {
     "data": {
      "image/png": "[encoded data removed]",
      "text/plain": [
       "<Figure size 640x480 with 1 Axes>"
      ]
     },
     "metadata": {},
     "output_type": "display_data"
    }
   ],
   "source": [
    "visualize_data(X_train_orig, Y_train_orig)"
   ]
  },
  {
   "cell_type": "markdown",
   "metadata": {},
   "source": [
    "## preprocess data"
   ]
  },
  {
   "cell_type": "code",
   "execution_count": 9,
   "metadata": {},
   "outputs": [],
   "source": [
    "## CATVSNONCAT DATASET ##\n",
    "#########################\n",
    "def preprocess_data(X, Y = None):\n",
    "    \"\"\"Preprocess input data, in order to be fed as the input of the neural network.\n",
    "    \n",
    "    Operations:\n",
    "        - Reshaping of the arrays to fit the Neural Network Input\n",
    "        - Normalization\n",
    "    Returns:\n",
    "        (X_pp, Y_pp)\n",
    "        \n",
    "        using the following notations:\n",
    "        - n_x: number of features in the input of the neural network\n",
    "        - m: number of observations \n",
    "        X_pp: normalized matrix of size (n_x, m)\n",
    "        Y_pp: normalized array of size (1, m)\n",
    "    \"\"\"\n",
    "    m = X.shape[0]\n",
    "\n",
    "    ## reshaping\n",
    "    X = X.reshape(m, -1).T\n",
    "    if Y is not None:\n",
    "        Y = Y.reshape(m, 1).T\n",
    "    \n",
    "    ## normalization\n",
    "    X = X / 255.\n",
    "    \n",
    "    return X,Y\n",
    "####################\n",
    "####################"
   ]
  },
  {
   "cell_type": "code",
   "execution_count": 10,
   "metadata": {},
   "outputs": [],
   "source": [
    "# ## FLOWER DATASET ## \n",
    "# ####################\n",
    "\n",
    "# def preprocess_data(X, Y = None):\n",
    "#     \"\"\"Preprocess input data, in order to be fed as the input of the neural network.\n",
    "#     \"\"\"\n",
    "#     # nothing to do, the data is already in the right shape and scale !\n",
    "#     return X, Y\n",
    "\n",
    "# ###################\n",
    "# ###################"
   ]
  },
  {
   "cell_type": "code",
   "execution_count": 11,
   "metadata": {},
   "outputs": [
    {
     "name": "stdout",
     "output_type": "stream",
     "text": [
      "X_train shape: (12288, 209)\n",
      "Y_train shape: (1, 209)\n",
      "X_test shape: (12288, 50)\n",
      "Y_test shape: (1, 50)\n"
     ]
    }
   ],
   "source": [
    "X_train, Y_train = preprocess_data(X_train_orig, Y_train_orig)\n",
    "X_test, Y_test = preprocess_data(X_test_orig, Y_test_orig)\n",
    "\n",
    "print(f\"X_train shape: {X_train.shape}\")\n",
    "print(f\"Y_train shape: {Y_train.shape}\")\n",
    "print(f\"X_test shape: {X_test.shape}\")\n",
    "print(f\"Y_test shape: {Y_test.shape}\")"
   ]
  },
  {
   "cell_type": "markdown",
   "metadata": {},
   "source": [
    "## define the network structure"
   ]
  },
  {
   "cell_type": "markdown",
   "metadata": {},
   "source": [
    "We want to build a 1 hidden layer neural network:\n",
    "\n",
    "![](../../schemas/1HL-NN.png)"
   ]
  },
  {
   "cell_type": "code",
   "execution_count": 12,
   "metadata": {},
   "outputs": [],
   "source": [
    "def get_layer_sizes(X, nb_hidden_units = 5):\n",
    "    \"\"\"\n",
    "    Returns:\n",
    "        - n: list containing the number of hidden units per layer\n",
    "    \"\"\"\n",
    "    n = list()\n",
    "    n.append(X.shape[0]) \n",
    "    n.append(nb_hidden_units)\n",
    "    n.append(1)\n",
    "    return n"
   ]
  },
  {
   "cell_type": "code",
   "execution_count": 13,
   "metadata": {},
   "outputs": [
    {
     "name": "stdout",
     "output_type": "stream",
     "text": [
      "n_0: 12288\n",
      "n_1: 3\n",
      "n_2: 1\n"
     ]
    }
   ],
   "source": [
    "n = get_layer_sizes(X_train, nb_hidden_units = 3)\n",
    "print(f\"n_0: {n[0]}\")\n",
    "print(f\"n_1: {n[1]}\")\n",
    "print(f\"n_2: {n[2]}\")"
   ]
  },
  {
   "cell_type": "markdown",
   "metadata": {},
   "source": [
    "## initialize the parameters"
   ]
  },
  {
   "cell_type": "code",
   "execution_count": 14,
   "metadata": {},
   "outputs": [],
   "source": [
    "def initialize_params(n: list[int]):\n",
    "\n",
    "    params = dict()\n",
    "    for i in range(1, len(n)):\n",
    "        params[f\"W{i}\"] = np.random.randn(n[i], n[i-1]) * 0.01\n",
    "        params[f\"b{i}\"] = np.zeros((n[i], 1))\n",
    "    return params"
   ]
  },
  {
   "cell_type": "code",
   "execution_count": 15,
   "metadata": {},
   "outputs": [],
   "source": [
    "params = initialize_params(n)"
   ]
  },
  {
   "cell_type": "code",
   "execution_count": 16,
   "metadata": {},
   "outputs": [
    {
     "name": "stdout",
     "output_type": "stream",
     "text": [
      "shape of W1: (3, 12288)\n",
      "shape of b1: (3, 1)\n",
      "shape of W2: (1, 3)\n",
      "shape of b2: (1, 1)\n"
     ]
    }
   ],
   "source": [
    "print(f\"shape of W1: {params['W1'].shape}\")\n",
    "print(f\"shape of b1: {params['b1'].shape}\")\n",
    "print(f\"shape of W2: {params['W2'].shape}\")\n",
    "print(f\"shape of b2: {params['b2'].shape}\")"
   ]
  },
  {
   "cell_type": "code",
   "execution_count": 17,
   "metadata": {},
   "outputs": [
    {
     "data": {
      "text/plain": [
       "array([[ 0.00496714, -0.00138264,  0.00647689, ...,  0.00606795,\n",
       "         0.00245819, -0.0141764 ],\n",
       "       [-0.00332273, -0.00612551, -0.00461745, ...,  0.00043588,\n",
       "         0.0051953 , -0.00264349],\n",
       "       [ 0.00516406, -0.00085402,  0.01011368, ...,  0.00386897,\n",
       "        -0.00176678, -0.00342218]])"
      ]
     },
     "execution_count": 17,
     "metadata": {},
     "output_type": "execute_result"
    }
   ],
   "source": [
    "params['W1']"
   ]
  },
  {
   "cell_type": "markdown",
   "metadata": {},
   "source": [
    "## forward propagate"
   ]
  },
  {
   "cell_type": "code",
   "execution_count": 18,
   "metadata": {},
   "outputs": [],
   "source": [
    "def forward_propagate(params, X):\n",
    "\n",
    "    W1 = params[\"W1\"]\n",
    "    W2 = params[\"W2\"]\n",
    "    b1 = params[\"b1\"]\n",
    "    b2 = params[\"b2\"]\n",
    "\n",
    "    Z1 = np.dot(W1, X) + b1\n",
    "    A1 = np.tanh(Z1)\n",
    "    Z2 = np.dot(W2, A1) + b2\n",
    "    A2 = sigmoid(Z2)\n",
    "\n",
    "    cache = {\n",
    "        \"Z1\": Z1,\n",
    "        \"A1\": A1,\n",
    "        \"Z2\": Z2,\n",
    "        \"A2\": A2\n",
    "    }\n",
    "    return A2, cache"
   ]
  },
  {
   "cell_type": "code",
   "execution_count": 19,
   "metadata": {},
   "outputs": [],
   "source": [
    "A2, cache = forward_propagate(params, X_train)"
   ]
  },
  {
   "cell_type": "code",
   "execution_count": 20,
   "metadata": {},
   "outputs": [
    {
     "data": {
      "text/plain": [
       "array([[0.50084825, 0.49965866, 0.50219875, 0.50364894, 0.50179513,\n",
       "        0.50124931, 0.50120257, 0.50215471, 0.49943422, 0.50067771,\n",
       "        0.50119508, 0.50246528, 0.50088235, 0.50289289, 0.50233027,\n",
       "        0.49975503, 0.50097177, 0.50051828, 0.50238869, 0.50219082,\n",
       "        0.50148848, 0.50175941, 0.50160291, 0.50137822, 0.50300078,\n",
       "        0.49973811, 0.50229653, 0.50182257, 0.50237683, 0.50302656,\n",
       "        0.5025111 , 0.50349718, 0.49814207, 0.50179477, 0.50135036,\n",
       "        0.50140558, 0.50057444, 0.4992796 , 0.50161555, 0.50299115,\n",
       "        0.50125676, 0.50153476, 0.50158736, 0.5045854 , 0.504068  ,\n",
       "        0.5017111 , 0.5017646 , 0.50077039, 0.50312339, 0.50220335,\n",
       "        0.50201937, 0.50139746, 0.50371469, 0.50305401, 0.50144159,\n",
       "        0.50033135, 0.49951196, 0.50376576, 0.50138664, 0.50139708,\n",
       "        0.50015441, 0.5001724 , 0.50258853, 0.50258057, 0.50222581,\n",
       "        0.50111942, 0.50330431, 0.50158348, 0.50112839, 0.50289166,\n",
       "        0.4989574 , 0.49799022, 0.50118668, 0.50306159, 0.50183363,\n",
       "        0.50136453, 0.50295152, 0.50230179, 0.50286349, 0.50077201,\n",
       "        0.50348523, 0.50367863, 0.50282667, 0.49962116, 0.49958941,\n",
       "        0.5022133 , 0.5029679 , 0.50035792, 0.49966022, 0.50062327,\n",
       "        0.50366304, 0.50387725, 0.5031658 , 0.5007898 , 0.49994744,\n",
       "        0.50344581, 0.50213211, 0.50367477, 0.50303639, 0.50098   ,\n",
       "        0.50104733, 0.50319597, 0.50482407, 0.50229459, 0.50193077,\n",
       "        0.50193713, 0.50334073, 0.50204637, 0.50107664, 0.50194613,\n",
       "        0.50232894, 0.50185407, 0.5002142 , 0.50298713, 0.502239  ,\n",
       "        0.50187811, 0.50025126, 0.49970297, 0.49982522, 0.50053272,\n",
       "        0.50147494, 0.50240823, 0.50135928, 0.50294232, 0.50158279,\n",
       "        0.50135911, 0.49963847, 0.50177638, 0.50039584, 0.50025051,\n",
       "        0.50210589, 0.50207091, 0.50242585, 0.50001082, 0.49847862,\n",
       "        0.50255076, 0.50399616, 0.49924769, 0.50173715, 0.50125642,\n",
       "        0.5033795 , 0.5016392 , 0.50011844, 0.50256248, 0.50317626,\n",
       "        0.50115299, 0.50215793, 0.50211582, 0.50280365, 0.50174001,\n",
       "        0.50200152, 0.49953445, 0.503014  , 0.50021292, 0.50090611,\n",
       "        0.50306953, 0.5020064 , 0.50217302, 0.50235468, 0.50240382,\n",
       "        0.50177997, 0.50075542, 0.50136798, 0.50272481, 0.50276552,\n",
       "        0.50155905, 0.5044963 , 0.49992337, 0.50186252, 0.50214414,\n",
       "        0.49966228, 0.50213459, 0.50231553, 0.50131992, 0.50238117,\n",
       "        0.50261452, 0.50028516, 0.49980774, 0.50341876, 0.50272487,\n",
       "        0.50098361, 0.50263453, 0.50327606, 0.50346482, 0.50195122,\n",
       "        0.5023072 , 0.50198815, 0.50376146, 0.50104785, 0.50341628,\n",
       "        0.50321216, 0.50109998, 0.50323983, 0.50040376, 0.50283595,\n",
       "        0.5013471 , 0.50190293, 0.50081761, 0.50201959, 0.50214123,\n",
       "        0.5014627 , 0.50179245, 0.49982378, 0.50065921, 0.50229057,\n",
       "        0.50248535, 0.5024979 , 0.50118193, 0.50120259]])"
      ]
     },
     "execution_count": 20,
     "metadata": {},
     "output_type": "execute_result"
    }
   ],
   "source": [
    "A2"
   ]
  },
  {
   "cell_type": "markdown",
   "metadata": {},
   "source": [
    "## compute the cost"
   ]
  },
  {
   "cell_type": "code",
   "execution_count": 21,
   "metadata": {},
   "outputs": [],
   "source": [
    "def compute_cost(A2, Y):\n",
    "    m = A2.shape[1]\n",
    "    cost = -(1/m)*np.sum(Y*np.log(A2) + (1-Y)*np.log(1-A2))\n",
    "    return cost"
   ]
  },
  {
   "cell_type": "code",
   "execution_count": 22,
   "metadata": {},
   "outputs": [
    {
     "data": {
      "text/plain": [
       "0.6945270084612353"
      ]
     },
     "execution_count": 22,
     "metadata": {},
     "output_type": "execute_result"
    }
   ],
   "source": [
    "compute_cost(A2, Y_train)"
   ]
  },
  {
   "cell_type": "markdown",
   "metadata": {},
   "source": [
    "## backward propagate"
   ]
  },
  {
   "cell_type": "code",
   "execution_count": 23,
   "metadata": {},
   "outputs": [],
   "source": [
    "def backward_propagate(X, Y, cache, params):\n",
    "    \"\"\"\n",
    "    Implement the backward propagation using the instructions above.\n",
    "    \n",
    "    Arguments:\n",
    "    X -- input data of shape (2, number of examples)\n",
    "    Y -- \"true\" labels vector of shape (1, number of examples)\n",
    "    cache -- a dictionary containing \"Z1\", \"A1\", \"Z2\" and \"A2\".\n",
    "    params -- python dictionary containing our parameters \n",
    "    \n",
    "    Returns:\n",
    "    grads -- python dictionary containing your gradients with respect to different parameters\n",
    "    \"\"\"\n",
    "    m = X.shape[1]\n",
    "    \n",
    "    # First, retrieve W1 and W2 from the dictionary \"parameters\".\n",
    "    W2 = params[\"W2\"]\n",
    "\n",
    "        \n",
    "    # Retrieve also A1 and A2 from dictionary \"cache\".\n",
    "    A1 = cache[\"A1\"]\n",
    "    A2 = cache[\"A2\"]\n",
    "    \n",
    "    # Backward propagation: calculate dW1, db1, dW2, db2. \n",
    "    dZ2 = A2 - Y\n",
    "    dW2 = (1/m) * np.dot(dZ2,A1.T)\n",
    "    db2 = (1/m) *(np.sum(dZ2,axis=1,keepdims=True))\n",
    "    dZ1 = np.dot(W2.T,dZ2) * (1 - np.power(A1,2))\n",
    "    dW1 = (1/m) *(np.dot(dZ1,X.T))\n",
    "    db1 = (1/m) *(np.sum(dZ1, axis=1, keepdims=True))\n",
    "    ### END CODE HERE ###\n",
    "    \n",
    "    grads = {\"dW1\": dW1,\n",
    "             \"db1\": db1,\n",
    "             \"dW2\": dW2,\n",
    "             \"db2\": db2}\n",
    "    \n",
    "    return grads"
   ]
  },
  {
   "cell_type": "code",
   "execution_count": 24,
   "metadata": {},
   "outputs": [],
   "source": [
    "grads = backward_propagate(X_train, Y_train, cache, params)"
   ]
  },
  {
   "cell_type": "markdown",
   "metadata": {},
   "source": [
    "## update the parameters"
   ]
  },
  {
   "cell_type": "code",
   "execution_count": 25,
   "metadata": {},
   "outputs": [],
   "source": [
    "def update_params(params, grads, learning_rate):\n",
    "\n",
    "    # Retrieve each parameter from the dictionary \"parameters\"\n",
    "    W1 = params[\"W1\"]\n",
    "    b1 = params[\"b1\"]\n",
    "    W2 = params[\"W2\"]\n",
    "    b2 = params[\"b2\"]\n",
    "    \n",
    "    # Retrieve each gradient from the dictionary \"grads\"\n",
    "    dW1 = grads[\"dW1\"]\n",
    "    db1 = grads[\"db1\"]\n",
    "    dW2 = grads[\"dW2\"]\n",
    "    db2 = grads[\"db2\"]\n",
    "    \n",
    "    # Update rule for each parameter\n",
    "    W1 = W1 - learning_rate * dW1\n",
    "    b1 = b1 - learning_rate * db1\n",
    "    W2 = W2 - learning_rate * dW2\n",
    "    b2 = b2 - learning_rate * db2\n",
    "    \n",
    "    params = {\"W1\": W1,\n",
    "                  \"b1\": b1,\n",
    "                  \"W2\": W2,\n",
    "                  \"b2\": b2}\n",
    "    \n",
    "    return params"
   ]
  },
  {
   "cell_type": "code",
   "execution_count": 26,
   "metadata": {},
   "outputs": [],
   "source": [
    "params = update_params(params, grads, 0.01)"
   ]
  },
  {
   "cell_type": "code",
   "execution_count": 27,
   "metadata": {},
   "outputs": [
    {
     "data": {
      "text/plain": [
       "{'W1': array([[ 0.00497538, -0.00137156,  0.00648566, ...,  0.00607715,\n",
       "          0.0024693 , -0.01417028],\n",
       "        [-0.003323  , -0.00612589, -0.00461776, ...,  0.00043553,\n",
       "          0.00519488, -0.00264371],\n",
       "        [ 0.00516521, -0.00085249,  0.01011486, ...,  0.00387018,\n",
       "         -0.00176527, -0.00342134]]),\n",
       " 'b1': array([[ 2.72927934e-05],\n",
       "        [-1.02590971e-06],\n",
       "        [ 3.69180197e-06]]),\n",
       " 'W2': array([[-0.01946561,  0.00023555, -0.00257485]]),\n",
       " 'b2': array([[-0.00157253]])}"
      ]
     },
     "execution_count": 27,
     "metadata": {},
     "output_type": "execute_result"
    }
   ],
   "source": [
    "params"
   ]
  },
  {
   "cell_type": "markdown",
   "metadata": {},
   "source": [
    "## train"
   ]
  },
  {
   "cell_type": "code",
   "execution_count": 28,
   "metadata": {},
   "outputs": [],
   "source": [
    "def train(X, Y, n, nb_iterations, learning_rate):\n",
    "\n",
    "    m = X.shape[1]\n",
    "    params = initialize_params(n)\n",
    "\n",
    "    costs = list()\n",
    "\n",
    "    for i in range(nb_iterations):\n",
    "        A2, cache = forward_propagate(params, X)\n",
    "        cost = compute_cost(A2, Y)\n",
    "        grads = backward_propagate(X, Y, cache, params)\n",
    "        params = update_params(params, grads, learning_rate)\n",
    "\n",
    "        if (i % 100) == 0:# we store the cost each 100 iterations\n",
    "            costs.append(cost)\n",
    "    \n",
    "    return params, costs"
   ]
  },
  {
   "cell_type": "code",
   "execution_count": 29,
   "metadata": {},
   "outputs": [],
   "source": [
    "n = get_layer_sizes(X_train, nb_hidden_units=5)\n",
    "nb_it = 1500\n",
    "learning_rate = 0.01\n",
    "params, costs = train(X_train, Y_train, n, nb_it, learning_rate)"
   ]
  },
  {
   "cell_type": "code",
   "execution_count": 30,
   "metadata": {},
   "outputs": [
    {
     "name": "stdout",
     "output_type": "stream",
     "text": [
      "[12288, 5, 1]\n"
     ]
    },
    {
     "data": {
      "text/plain": [
       "[<matplotlib.lines.Line2D at 0x13ff124f0>]"
      ]
     },
     "execution_count": 30,
     "metadata": {},
     "output_type": "execute_result"
    },
    {
     "data": {
      "image/png": "[encoded data removed]",
      "text/plain": [
       "<Figure size 640x480 with 1 Axes>"
      ]
     },
     "metadata": {},
     "output_type": "display_data"
    }
   ],
   "source": [
    "print(n)\n",
    "plt.plot(costs)"
   ]
  },
  {
   "cell_type": "markdown",
   "metadata": {},
   "source": [
    "## predict"
   ]
  },
  {
   "cell_type": "code",
   "execution_count": 31,
   "metadata": {},
   "outputs": [],
   "source": [
    "def predict(params, X, threshold = 0.5):\n",
    "    A2, _= forward_propagate(params, X)\n",
    "    Yp = 1*(A2 >= threshold)\n",
    "    return Yp"
   ]
  },
  {
   "cell_type": "code",
   "execution_count": 32,
   "metadata": {},
   "outputs": [
    {
     "data": {
      "text/plain": [
       "array([[0, 0, 1, 0, 0, 0, 0, 1, 0, 0, 0, 1, 0, 1, 1, 0, 0, 0, 0, 1, 0, 0,\n",
       "        0, 0, 1, 1, 0, 1, 0, 1, 0, 0, 0, 0, 0, 0, 0, 0, 1, 0, 0, 0, 1, 0,\n",
       "        0, 0, 0, 1, 0, 0, 1, 0, 0, 0, 1, 0, 1, 1, 0, 1, 1, 1, 0, 0, 0, 0,\n",
       "        0, 0, 1, 0, 0, 1, 0, 0, 0, 1, 0, 0, 0, 0, 0, 0, 0, 1, 1, 0, 0, 0,\n",
       "        1, 0, 0, 0, 0, 1, 1, 0, 0, 1, 0, 0, 0, 0, 0, 0, 1, 0, 1, 1, 1, 1,\n",
       "        1, 1, 0, 0, 0, 0, 0, 1, 0, 0, 0, 1, 0, 0, 1, 0, 1, 0, 1, 1, 0, 0,\n",
       "        0, 1, 1, 0, 1, 1, 0, 0, 0, 0, 1, 0, 1, 1, 1, 0, 1, 1, 0, 0, 0, 1,\n",
       "        0, 0, 1, 0, 0, 0, 0, 0, 1, 0, 1, 0, 1, 0, 0, 1, 1, 1, 0, 0, 1, 1,\n",
       "        0, 1, 0, 1, 0, 0, 0, 0, 0, 1, 0, 0, 1, 0, 0, 0, 1, 0, 0, 0, 0, 1,\n",
       "        0, 0, 1, 0, 0, 0, 0, 0, 0, 0, 0]])"
      ]
     },
     "execution_count": 32,
     "metadata": {},
     "output_type": "execute_result"
    }
   ],
   "source": [
    "predict(params, X_train)"
   ]
  },
  {
   "cell_type": "markdown",
   "metadata": {},
   "source": [
    "## evaluate the performance"
   ]
  },
  {
   "cell_type": "code",
   "execution_count": 33,
   "metadata": {},
   "outputs": [],
   "source": [
    "def evaluate_performance(X_train, Y_train, X_test, Y_test, params, print_perf=True):\n",
    "    Yp_train = predict(params, X_train)\n",
    "    Yp_test = predict(params, X_test)\n",
    "    \n",
    "    acc_train = np.mean(Yp_train == Y_train)\n",
    "    acc_test = np.mean(Yp_test == Y_test)\n",
    "\n",
    "    if print_perf:\n",
    "        print(f'train accuracy: {acc_train:.1%}')\n",
    "        print(f'test accuracy: {acc_test:.1%}')\n",
    "        print(\"\")\n",
    "        \n",
    "        acc_bs_one = (Y_test == 1).mean()\n",
    "        acc_bs_zero = (Y_test == 0).mean()\n",
    "        print('baseline:')\n",
    "        print(f'test accuracy, model always predicts \"1\": {acc_bs_one:.1%}')\n",
    "        print(f'test accuracy, model always predicts \"0\": {acc_bs_zero:.1%}')\n",
    "    return acc_train, acc_test"
   ]
  },
  {
   "cell_type": "code",
   "execution_count": 34,
   "metadata": {},
   "outputs": [
    {
     "name": "stdout",
     "output_type": "stream",
     "text": [
      "train accuracy: 97.6%\n",
      "test accuracy: 70.0%\n",
      "\n",
      "baseline:\n",
      "test accuracy, model always predicts \"1\": 66.0%\n",
      "test accuracy, model always predicts \"0\": 34.0%\n"
     ]
    },
    {
     "data": {
      "text/plain": [
       "(0.9760765550239234, 0.7)"
      ]
     },
     "execution_count": 34,
     "metadata": {},
     "output_type": "execute_result"
    }
   ],
   "source": [
    "evaluate_performance(X_train, Y_train, X_test, Y_test, params)"
   ]
  },
  {
   "cell_type": "markdown",
   "metadata": {},
   "source": [
    "# EXPERIMENTS"
   ]
  },
  {
   "cell_type": "code",
   "execution_count": 35,
   "metadata": {},
   "outputs": [],
   "source": [
    "def experiment_with_learning_rate(X_train, Y_train, X_test, Y_test, learning_rates, nb_iterations=2000):\n",
    "    res_cost = dict()\n",
    "    res_acc = dict() \n",
    "\n",
    "    for lr in learning_rates:\n",
    "        params, costs = train(X_train, Y_train, nb_iterations, lr)\n",
    "        acc_train, acc_test = evaluate_performance(X_train, Y_train, X_test, Y_test, params, print_perf=False)\n",
    "\n",
    "        res_cost[lr] = costs\n",
    "        res_acc[lr] = (acc_train, acc_test)\n",
    "        \n",
    "        plt.plot(res_cost[lr], label= lr)\n",
    "    \n",
    "    ## display the evolution of the cost\n",
    "    plt.xlabel = \"iteration ( % 100)\"\n",
    "    plt.ylabel = \"cost\"\n",
    "    plt.legend(loc='upper center', shadow=True)\n",
    "    plt.show()\n",
    "\n",
    "    ## display the accuracy\n",
    "    for lr in learning_rates:\n",
    "        print(f'LR = {lr} / train accuracy = {res_acc[lr][0]:.1%}, test accuracy = {res_acc[lr][1]:.1%}')\n"
   ]
  },
  {
   "cell_type": "code",
   "execution_count": 36,
   "metadata": {},
   "outputs": [
    {
     "ename": "TypeError",
     "evalue": "train() missing 1 required positional argument: 'learning_rate'",
     "output_type": "error",
     "traceback": [
      "\u001b[0;31m---------------------------------------------------------------------------\u001b[0m",
      "\u001b[0;31mTypeError\u001b[0m                                 Traceback (most recent call last)",
      "Cell \u001b[0;32mIn [36], line 3\u001b[0m\n\u001b[1;32m      1\u001b[0m learning_rates \u001b[39m=\u001b[39m [\u001b[39m10\u001b[39m\u001b[39m*\u001b[39m\u001b[39m*\u001b[39m\u001b[39m-\u001b[39m\u001b[39m4\u001b[39m, \u001b[39m10\u001b[39m\u001b[39m*\u001b[39m\u001b[39m*\u001b[39m\u001b[39m-\u001b[39m\u001b[39m3\u001b[39m, \u001b[39m10\u001b[39m\u001b[39m*\u001b[39m\u001b[39m*\u001b[39m\u001b[39m-\u001b[39m\u001b[39m2\u001b[39m, \u001b[39m10\u001b[39m\u001b[39m*\u001b[39m\u001b[39m*\u001b[39m\u001b[39m-\u001b[39m\u001b[39m1\u001b[39m]\n\u001b[1;32m      2\u001b[0m nb_iterations \u001b[39m=\u001b[39m \u001b[39m10000\u001b[39m\n\u001b[0;32m----> 3\u001b[0m experiment_with_learning_rate(X_train, Y_train, X_test, Y_test, learning_rates, nb_iterations)\n",
      "Cell \u001b[0;32mIn [35], line 6\u001b[0m, in \u001b[0;36mexperiment_with_learning_rate\u001b[0;34m(X_train, Y_train, X_test, Y_test, learning_rates, nb_iterations)\u001b[0m\n\u001b[1;32m      3\u001b[0m res_acc \u001b[39m=\u001b[39m \u001b[39mdict\u001b[39m() \n\u001b[1;32m      5\u001b[0m \u001b[39mfor\u001b[39;00m lr \u001b[39min\u001b[39;00m learning_rates:\n\u001b[0;32m----> 6\u001b[0m     params, costs \u001b[39m=\u001b[39m train(X_train, Y_train, nb_iterations, lr)\n\u001b[1;32m      7\u001b[0m     acc_train, acc_test \u001b[39m=\u001b[39m evaluate_performance(X_train, Y_train, X_test, Y_test, params, print_perf\u001b[39m=\u001b[39m\u001b[39mFalse\u001b[39;00m)\n\u001b[1;32m      9\u001b[0m     res_cost[lr] \u001b[39m=\u001b[39m costs\n",
      "\u001b[0;31mTypeError\u001b[0m: train() missing 1 required positional argument: 'learning_rate'"
     ]
    }
   ],
   "source": [
    "learning_rates = [10**-4, 10**-3, 10**-2, 10**-1]\n",
    "nb_iterations = 10000\n",
    "experiment_with_learning_rate(X_train, Y_train, X_test, Y_test, learning_rates, nb_iterations)"
   ]
  }
 ],
 "metadata": {
  "kernelspec": {
   "display_name": "Python 3.9.15 ('.venv': poetry)",
   "language": "python",
   "name": "python3"
  },
  "language_info": {
   "codemirror_mode": {
    "name": "ipython",
    "version": 3
   },
   "file_extension": ".py",
   "mimetype": "text/x-python",
   "name": "python",
   "nbconvert_exporter": "python",
   "pygments_lexer": "ipython3",
   "version": "3.9.15"
  },
  "orig_nbformat": 4,
  "vscode": {
   "interpreter": {
    "hash": "a19105ebd9057427e746efa9b30330b5b6764df49ff5bc57f6bbe079f3f763c4"
   }
  }
 },
 "nbformat": 4,
 "nbformat_minor": 2
}
