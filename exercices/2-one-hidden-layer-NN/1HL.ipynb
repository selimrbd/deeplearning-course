{
 "cells": [
  {
   "cell_type": "code",
   "execution_count": 33,
   "metadata": {},
   "outputs": [],
   "source": [
    "sys.path.append('..')\n",
    "from utils.planar_utils import load_planar_dataset\n",
    "import numpy as np\n",
    "import matplotlib.pyplot as plt\n",
    "from pathlib import Path\n",
    "import joblib\n",
    "import random\n"
   ]
  },
  {
   "cell_type": "markdown",
   "metadata": {},
   "source": [
    "# TRAIN A 1-HIDDEN-LAYER NEURAL NETWORK"
   ]
  },
  {
   "cell_type": "markdown",
   "metadata": {},
   "source": [
    "## helper functions"
   ]
  },
  {
   "cell_type": "code",
   "execution_count": 34,
   "metadata": {},
   "outputs": [],
   "source": [
    "def sigmoid(z):\n",
    "    return 1 / (1 + np.exp(-z))"
   ]
  },
  {
   "cell_type": "markdown",
   "metadata": {},
   "source": [
    "## load data"
   ]
  },
  {
   "cell_type": "code",
   "execution_count": 35,
   "metadata": {},
   "outputs": [],
   "source": [
    "## CATVSNONCAT DATASET ##\n",
    "###########################\n",
    "def load_data():\n",
    "    \"\"\"\n",
    "    Load the train and test set.\n",
    "\n",
    "    Returns:\n",
    "        - (X_train, Y_train, X_test, Y_test)\n",
    "    \"\"\"\n",
    "\n",
    "    path = Path('../../data/catvnoncat/data.pkl')\n",
    "    with open(path, \"rb\") as f:\n",
    "        data = joblib.load(f)\n",
    "\n",
    "    X_train = data[\"train_set_x\"]\n",
    "    Y_train = data[\"train_set_y\"]\n",
    "    X_test = data[\"test_set_x\"]\n",
    "    Y_test = data[\"test_set_y\"]\n",
    "\n",
    "    return X_train, Y_train, X_test, Y_test\n",
    "############################\n",
    "############################"
   ]
  },
  {
   "cell_type": "code",
   "execution_count": 36,
   "metadata": {},
   "outputs": [],
   "source": [
    "# ## FLOWER DATASET ## \n",
    "# ####################\n",
    "\n",
    "# def load_data():\n",
    "#     \"\"\"\n",
    "#     Load the train and test set.\n",
    "\n",
    "#     Returns:\n",
    "#         - (X_train, Y_train, X_test, Y_test)\n",
    "#     \"\"\"\n",
    "\n",
    "#     X, Y = load_planar_dataset()\n",
    "\n",
    "#     ## train / test split\n",
    "#     m = X.shape[1]\n",
    "#     pct_test = 0.20\n",
    "#     m_test = int(m * pct_test)\n",
    "#     idx_test = np.random.choice(m, size=m_test, replace=False)\n",
    "#     idx_train = [i for i in range(m) if i not in idx_test]\n",
    "#     X_train = X[:, idx_train]\n",
    "#     Y_train = Y[:, idx_train]\n",
    "#     X_test = X[:, idx_test]\n",
    "#     Y_test = Y[:, idx_test]\n",
    "\n",
    "#     return X_train, Y_train, X_test, Y_test\n",
    "\n",
    "# ####################\n",
    "# ####################"
   ]
  },
  {
   "cell_type": "code",
   "execution_count": 37,
   "metadata": {},
   "outputs": [
    {
     "name": "stdout",
     "output_type": "stream",
     "text": [
      "X_train_orig shape: (209, 64, 64, 3)\n",
      "Y_train_orig shape: (209,)\n",
      "X_test_orig shape: (50, 64, 64, 3)\n",
      "Y_test_orig shape: (50,)\n"
     ]
    }
   ],
   "source": [
    "X_train_orig, Y_train_orig, X_test_orig, Y_test_orig = load_data()\n",
    "\n",
    "print(f\"X_train_orig shape: {X_train_orig.shape}\")\n",
    "print(f\"Y_train_orig shape: {Y_train_orig.shape}\")\n",
    "print(f\"X_test_orig shape: {X_test_orig.shape}\")\n",
    "print(f\"Y_test_orig shape: {Y_test_orig.shape}\")"
   ]
  },
  {
   "cell_type": "markdown",
   "metadata": {},
   "source": [
    "## visualize data"
   ]
  },
  {
   "cell_type": "code",
   "execution_count": 38,
   "metadata": {},
   "outputs": [],
   "source": [
    "## CATVSNONCAT DATASET ##\n",
    "#########################\n",
    "def visualize_data(X, Y):\n",
    "    \"\"\"\n",
    "    Displays a random image with its label\n",
    "    \"\"\"\n",
    "    m = X.shape[0]\n",
    "    i = random.randint(0, m-1)\n",
    "    x = X[i]\n",
    "    y = Y[i]\n",
    "    labels = {0: \"non-cat\", 1: \"cat\"}\n",
    "    print(f'label: {labels[y]}')\n",
    "    plt.imshow(x)\n",
    "####################\n",
    "####################"
   ]
  },
  {
   "cell_type": "code",
   "execution_count": 39,
   "metadata": {},
   "outputs": [],
   "source": [
    "# ## FLOWER DATASET ##\n",
    "# ####################\n",
    "# def visualize_data(X, Y):\n",
    "#     \"\"\"\n",
    "#     Displays a random image with its label\n",
    "#     \"\"\"\n",
    "#     plt.scatter(X[0, :], X[1, :], c=Y, s=40, cmap=plt.cm.cividis)\n",
    "# ####################\n",
    "# ####################"
   ]
  },
  {
   "cell_type": "code",
   "execution_count": 59,
   "metadata": {},
   "outputs": [
    {
     "name": "stdout",
     "output_type": "stream",
     "text": [
      "label: cat\n"
     ]
    },
    {
     "data": {
      "image/png": "[encoded data removed]",
      "text/plain": [
       "<Figure size 640x480 with 1 Axes>"
      ]
     },
     "metadata": {},
     "output_type": "display_data"
    }
   ],
   "source": [
    "visualize_data(X_train_orig, Y_train_orig)"
   ]
  },
  {
   "cell_type": "markdown",
   "metadata": {},
   "source": [
    "## preprocess data"
   ]
  },
  {
   "cell_type": "code",
   "execution_count": 60,
   "metadata": {},
   "outputs": [],
   "source": [
    "## CATVSNONCAT DATASET ##\n",
    "#########################\n",
    "def preprocess_data(X, Y = None):\n",
    "    \"\"\"Preprocess input data, in order to be fed as the input of the neural network.\n",
    "    \n",
    "    Operations:\n",
    "        - Reshaping of the arrays to fit the Neural Network Input\n",
    "        - Normalization\n",
    "    Returns:\n",
    "        (X_pp, Y_pp)\n",
    "        \n",
    "        using the following notations:\n",
    "        - n_x: number of features in the input of the neural network\n",
    "        - m: number of observations \n",
    "        X_pp: normalized matrix of size (n_x, m)\n",
    "        Y_pp: normalized array of size (1, m)\n",
    "    \"\"\"\n",
    "    m = X.shape[0]\n",
    "\n",
    "    ## reshaping\n",
    "    X = X.reshape(m, -1).T\n",
    "    if Y is not None:\n",
    "        Y = Y.reshape(m, 1).T\n",
    "    \n",
    "    ## normalization\n",
    "    X = X / 255.\n",
    "    \n",
    "    return X,Y\n",
    "####################\n",
    "####################"
   ]
  },
  {
   "cell_type": "code",
   "execution_count": 61,
   "metadata": {},
   "outputs": [],
   "source": [
    "# ## FLOWER DATASET ## \n",
    "# ####################\n",
    "\n",
    "# def preprocess_data(X, Y = None):\n",
    "#     \"\"\"Preprocess input data, in order to be fed as the input of the neural network.\n",
    "#     \"\"\"\n",
    "#     # nothing to do, the data is already in the right shape and scale !\n",
    "#     return X, Y\n",
    "\n",
    "# ###################\n",
    "# ###################"
   ]
  },
  {
   "cell_type": "code",
   "execution_count": 63,
   "metadata": {},
   "outputs": [
    {
     "name": "stdout",
     "output_type": "stream",
     "text": [
      "X_train shape: (12288, 209)\n",
      "Y_train shape: (1, 209)\n",
      "X_test shape: (12288, 50)\n",
      "Y_test shape: (1, 50)\n"
     ]
    }
   ],
   "source": [
    "X_train, Y_train = preprocess_data(X_train_orig, Y_train_orig)\n",
    "X_test, Y_test = preprocess_data(X_test_orig, Y_test_orig)\n",
    "\n",
    "print(f\"X_train shape: {X_train.shape}\")\n",
    "print(f\"Y_train shape: {Y_train.shape}\")\n",
    "print(f\"X_test shape: {X_test.shape}\")\n",
    "print(f\"Y_test shape: {Y_test.shape}\")"
   ]
  },
  {
   "cell_type": "markdown",
   "metadata": {},
   "source": [
    "## define the network structure"
   ]
  },
  {
   "cell_type": "markdown",
   "metadata": {},
   "source": [
    "We want to build a 1 hidden layer neural network:\n",
    "\n",
    "![](../../schemas/1HL-NN.png)"
   ]
  },
  {
   "cell_type": "code",
   "execution_count": 108,
   "metadata": {},
   "outputs": [],
   "source": [
    "def get_layer_sizes(X, n_h = 5):\n",
    "    \"\"\"\n",
    "    Returns the size of each neural network layer.\n",
    "    \n",
    "    (n_x, n_h, n_y)\n",
    "    \"\"\"\n",
    "    n_x = X.shape[0]\n",
    "    n_h = n_h\n",
    "    n_y = 1\n",
    "    return (n_x, n_h, n_y)"
   ]
  },
  {
   "cell_type": "code",
   "execution_count": 129,
   "metadata": {},
   "outputs": [
    {
     "name": "stdout",
     "output_type": "stream",
     "text": [
      "n_x: 12288\n",
      "n_h: 3\n",
      "n_y: 1\n"
     ]
    }
   ],
   "source": [
    "n_x, n_h, n_y = get_layer_sizes(X_train, n_h = 3)\n",
    "print(f\"n_x: {n_x}\")\n",
    "print(f\"n_h: {n_h}\")\n",
    "print(f\"n_y: {n_y}\")"
   ]
  },
  {
   "cell_type": "markdown",
   "metadata": {},
   "source": [
    "## initialize the parameters"
   ]
  },
  {
   "cell_type": "code",
   "execution_count": 130,
   "metadata": {},
   "outputs": [],
   "source": [
    "def initialize_params(n_x, n_h, n_y):\n",
    "\n",
    "    W1 = np.random.randn(n_h, n_x) * 0.01\n",
    "    b1 = np.zeros((n_h, 1))\n",
    "    W2 = np.random.randn(n_y, n_h) * 0.01\n",
    "    b2 = np.zeros((n_y, 1))\n",
    "\n",
    "    params = {\n",
    "        \"W1\": W1,\n",
    "        \"b1\": b1,\n",
    "        \"W2\": W2,\n",
    "        \"b2\": b2\n",
    "    }\n",
    "    return params"
   ]
  },
  {
   "cell_type": "code",
   "execution_count": 131,
   "metadata": {},
   "outputs": [],
   "source": [
    "params = initialize_params(n_x,n_h,n_y)"
   ]
  },
  {
   "cell_type": "code",
   "execution_count": 132,
   "metadata": {},
   "outputs": [
    {
     "name": "stdout",
     "output_type": "stream",
     "text": [
      "shape of W1: (3, 12288)\n",
      "shape of b1: (3, 1)\n",
      "shape of W2: (1, 3)\n",
      "shape of b2: (1, 1)\n"
     ]
    }
   ],
   "source": [
    "print(f\"shape of W1: {params['W1'].shape}\")\n",
    "print(f\"shape of b1: {params['b1'].shape}\")\n",
    "print(f\"shape of W2: {params['W2'].shape}\")\n",
    "print(f\"shape of b2: {params['b2'].shape}\")"
   ]
  },
  {
   "cell_type": "markdown",
   "metadata": {},
   "source": [
    "## forward propagate"
   ]
  },
  {
   "cell_type": "code",
   "execution_count": 133,
   "metadata": {},
   "outputs": [],
   "source": [
    "def forward_propagate(params, X):\n",
    "\n",
    "    W1 = params[\"W1\"]\n",
    "    W2 = params[\"W2\"]\n",
    "    b1 = params[\"b1\"]\n",
    "    b2 = params[\"b2\"]\n",
    "\n",
    "    Z1 = np.dot(W1, X) + b1\n",
    "    A1 = np.tanh(Z1)\n",
    "    Z2 = np.dot(W2, A1) + b2\n",
    "    A2 = sigmoid(Z2)\n",
    "\n",
    "    cache = {\n",
    "        \"Z1\": Z1,\n",
    "        \"A1\": A1,\n",
    "        \"Z2\": Z2,\n",
    "        \"A2\": A2\n",
    "    }\n",
    "    return A2, cache"
   ]
  },
  {
   "cell_type": "code",
   "execution_count": 134,
   "metadata": {},
   "outputs": [],
   "source": [
    "A2, cache = forward_propagate(params, X_train)"
   ]
  },
  {
   "cell_type": "markdown",
   "metadata": {},
   "source": [
    "## compute the cost"
   ]
  },
  {
   "cell_type": "code",
   "execution_count": 135,
   "metadata": {},
   "outputs": [],
   "source": [
    "def compute_cost(A2, Y):\n",
    "    m = A2.shape[1]\n",
    "    cost = -(1/m)*np.sum(Y*np.log(A2) + (1-Y)*np.log(1-A2))\n",
    "    return cost"
   ]
  },
  {
   "cell_type": "code",
   "execution_count": 136,
   "metadata": {},
   "outputs": [
    {
     "data": {
      "text/plain": [
       "0.6928412279814291"
      ]
     },
     "execution_count": 136,
     "metadata": {},
     "output_type": "execute_result"
    }
   ],
   "source": [
    "compute_cost(A2, Y_train)"
   ]
  },
  {
   "cell_type": "markdown",
   "metadata": {},
   "source": [
    "## backward propagate"
   ]
  },
  {
   "cell_type": "code",
   "execution_count": 137,
   "metadata": {},
   "outputs": [],
   "source": [
    "def backward_propagate(X, Y, cache, params):\n",
    "    \"\"\"\n",
    "    Implement the backward propagation using the instructions above.\n",
    "    \n",
    "    Arguments:\n",
    "    X -- input data of shape (2, number of examples)\n",
    "    Y -- \"true\" labels vector of shape (1, number of examples)\n",
    "    cache -- a dictionary containing \"Z1\", \"A1\", \"Z2\" and \"A2\".\n",
    "    params -- python dictionary containing our parameters \n",
    "    \n",
    "    Returns:\n",
    "    grads -- python dictionary containing your gradients with respect to different parameters\n",
    "    \"\"\"\n",
    "    m = X.shape[1]\n",
    "    \n",
    "    # First, retrieve W1 and W2 from the dictionary \"parameters\".\n",
    "    W2 = params[\"W2\"]\n",
    "\n",
    "        \n",
    "    # Retrieve also A1 and A2 from dictionary \"cache\".\n",
    "    A1 = cache[\"A1\"]\n",
    "    A2 = cache[\"A2\"]\n",
    "    \n",
    "    # Backward propagation: calculate dW1, db1, dW2, db2. \n",
    "    dZ2 = A2 - Y\n",
    "    dW2 = (1/m) * np.dot(dZ2,A1.T)\n",
    "    db2 = (1/m) *(np.sum(dZ2,axis=1,keepdims=True))\n",
    "    dZ1 = np.dot(W2.T,dZ2) * (1 - np.power(A1,2))\n",
    "    dW1 = (1/m) *(np.dot(dZ1,X.T))\n",
    "    db1 = (1/m) *(np.sum(dZ1, axis=1, keepdims=True))\n",
    "    ### END CODE HERE ###\n",
    "    \n",
    "    grads = {\"dW1\": dW1,\n",
    "             \"db1\": db1,\n",
    "             \"dW2\": dW2,\n",
    "             \"db2\": db2}\n",
    "    \n",
    "    return grads"
   ]
  },
  {
   "cell_type": "code",
   "execution_count": 138,
   "metadata": {},
   "outputs": [],
   "source": [
    "grads = backward_propagate(X_train, Y_train, cache, params)"
   ]
  },
  {
   "cell_type": "markdown",
   "metadata": {},
   "source": [
    "## update the parameters"
   ]
  },
  {
   "cell_type": "code",
   "execution_count": 139,
   "metadata": {},
   "outputs": [],
   "source": [
    "def update_params(params, grads, learning_rate):\n",
    "\n",
    "    # Retrieve each parameter from the dictionary \"parameters\"\n",
    "    W1 = params[\"W1\"]\n",
    "    b1 = params[\"b1\"]\n",
    "    W2 = params[\"W2\"]\n",
    "    b2 = params[\"b2\"]\n",
    "    \n",
    "    # Retrieve each gradient from the dictionary \"grads\"\n",
    "    dW1 = grads[\"dW1\"]\n",
    "    db1 = grads[\"db1\"]\n",
    "    dW2 = grads[\"dW2\"]\n",
    "    db2 = grads[\"db2\"]\n",
    "    \n",
    "    # Update rule for each parameter\n",
    "    W1 = W1 - learning_rate * dW1\n",
    "    b1 = b1 - learning_rate * db1\n",
    "    W2 = W2 - learning_rate * dW2\n",
    "    b2 = b2 - learning_rate * db2\n",
    "    \n",
    "    params = {\"W1\": W1,\n",
    "                  \"b1\": b1,\n",
    "                  \"W2\": W2,\n",
    "                  \"b2\": b2}\n",
    "    \n",
    "    return params"
   ]
  },
  {
   "cell_type": "code",
   "execution_count": 140,
   "metadata": {},
   "outputs": [],
   "source": [
    "params = update_params(params, grads, 0.01)"
   ]
  },
  {
   "cell_type": "code",
   "execution_count": 141,
   "metadata": {},
   "outputs": [
    {
     "data": {
      "text/plain": [
       "{'W1': array([[ 0.0027436 , -0.00136008, -0.01323806, ...,  0.01213228,\n",
       "          0.00927236, -0.00156149],\n",
       "        [ 0.00819919,  0.01046476, -0.01390652, ..., -0.00942523,\n",
       "          0.00545879, -0.01234767],\n",
       "        [-0.016139  ,  0.00065638,  0.01077577, ...,  0.00336538,\n",
       "         -0.00036839,  0.01262294]]),\n",
       " 'b1': array([[ 1.17984358e-06],\n",
       "        [-2.99217326e-05],\n",
       "        [ 8.12307841e-06]]),\n",
       " 'W2': array([[-0.00217041,  0.02029927, -0.00729133]]),\n",
       " 'b2': array([[-0.00154939]])}"
      ]
     },
     "execution_count": 141,
     "metadata": {},
     "output_type": "execute_result"
    }
   ],
   "source": [
    "params"
   ]
  },
  {
   "cell_type": "markdown",
   "metadata": {},
   "source": [
    "## train"
   ]
  },
  {
   "cell_type": "code",
   "execution_count": 142,
   "metadata": {},
   "outputs": [],
   "source": [
    "def train(X, Y, nb_iterations, learning_rate):\n",
    "\n",
    "    m = X.shape[1]\n",
    "    n_x, n_h, n_y = get_layer_sizes(X)\n",
    "    params = initialize_params(n_x, n_h, n_y)\n",
    "\n",
    "    costs = list()\n",
    "\n",
    "    for i in range(nb_iterations):\n",
    "        A2, cache = forward_propagate(params, X)\n",
    "        cost = compute_cost(A2, Y)\n",
    "        grads = backward_propagate(X, Y, cache, params)\n",
    "        params = update_params(params, grads, learning_rate)\n",
    "\n",
    "        if (i % 100) == 0:# we store the cost each 100 iterations\n",
    "            costs.append(cost)\n",
    "    \n",
    "    return params, costs"
   ]
  },
  {
   "cell_type": "code",
   "execution_count": 145,
   "metadata": {},
   "outputs": [],
   "source": [
    "nb_it = 1500\n",
    "learning_rate = 0.01\n",
    "params, costs = train(X_train, Y_train, nb_it, learning_rate)"
   ]
  },
  {
   "cell_type": "code",
   "execution_count": 146,
   "metadata": {},
   "outputs": [
    {
     "data": {
      "text/plain": [
       "[<matplotlib.lines.Line2D at 0x292ab35e0>]"
      ]
     },
     "execution_count": 146,
     "metadata": {},
     "output_type": "execute_result"
    },
    {
     "data": {
      "image/png": "[encoded data removed]",
      "text/plain": [
       "<Figure size 640x480 with 1 Axes>"
      ]
     },
     "metadata": {},
     "output_type": "display_data"
    }
   ],
   "source": [
    "plt.plot(costs)"
   ]
  },
  {
   "cell_type": "markdown",
   "metadata": {},
   "source": [
    "## predict"
   ]
  },
  {
   "cell_type": "code",
   "execution_count": 147,
   "metadata": {},
   "outputs": [],
   "source": [
    "def predict(params, X, threshold = 0.5):\n",
    "    A2, _= forward_propagate(params, X)\n",
    "    Yp = 1*(A2 >= threshold)\n",
    "    return Yp"
   ]
  },
  {
   "cell_type": "code",
   "execution_count": 148,
   "metadata": {},
   "outputs": [
    {
     "data": {
      "text/plain": [
       "array([[0, 0, 1, 0, 0, 0, 0, 1, 0, 0, 0, 1, 0, 1, 1, 0, 0, 0, 0, 1, 0, 0,\n",
       "        0, 0, 1, 1, 0, 1, 0, 1, 0, 0, 0, 0, 0, 0, 0, 0, 1, 0, 0, 0, 1, 0,\n",
       "        0, 0, 0, 1, 0, 0, 1, 0, 0, 0, 1, 0, 1, 1, 0, 1, 1, 1, 0, 0, 0, 0,\n",
       "        0, 0, 1, 0, 0, 1, 0, 0, 0, 1, 0, 0, 0, 0, 0, 0, 0, 1, 1, 0, 0, 0,\n",
       "        1, 0, 0, 0, 0, 1, 1, 0, 0, 1, 0, 0, 0, 0, 0, 0, 1, 0, 1, 1, 1, 1,\n",
       "        1, 1, 0, 0, 0, 0, 0, 1, 0, 0, 0, 1, 0, 0, 1, 0, 1, 0, 1, 1, 0, 0,\n",
       "        0, 1, 1, 0, 1, 1, 0, 0, 0, 0, 1, 0, 1, 1, 1, 0, 1, 1, 0, 0, 0, 1,\n",
       "        0, 0, 1, 0, 0, 0, 0, 0, 1, 0, 1, 0, 1, 0, 0, 1, 1, 1, 0, 0, 1, 1,\n",
       "        0, 1, 0, 1, 0, 0, 0, 0, 0, 1, 0, 0, 1, 0, 0, 0, 1, 0, 0, 0, 0, 1,\n",
       "        0, 0, 1, 0, 0, 0, 0, 0, 0, 0, 0]])"
      ]
     },
     "execution_count": 148,
     "metadata": {},
     "output_type": "execute_result"
    }
   ],
   "source": [
    "predict(params, X_train)"
   ]
  },
  {
   "cell_type": "markdown",
   "metadata": {},
   "source": [
    "## evaluate the performance"
   ]
  },
  {
   "cell_type": "code",
   "execution_count": 149,
   "metadata": {},
   "outputs": [],
   "source": [
    "def evaluate_performance(X_train, Y_train, X_test, Y_test, params, print_perf=True):\n",
    "    Yp_train = predict(params, X_train)\n",
    "    Yp_test = predict(params, X_test)\n",
    "    \n",
    "    acc_train = np.mean(Yp_train == Y_train)\n",
    "    acc_test = np.mean(Yp_test == Y_test)\n",
    "\n",
    "    if print_perf:\n",
    "        print(f'train accuracy: {acc_train:.1%}')\n",
    "        print(f'test accuracy: {acc_test:.1%}')\n",
    "        print(\"\")\n",
    "        \n",
    "        acc_bs_one = (Y_test == 1).mean()\n",
    "        acc_bs_zero = (Y_test == 0).mean()\n",
    "        print('baseline:')\n",
    "        print(f'test accuracy, model always predicts \"1\": {acc_bs_one:.1%}')\n",
    "        print(f'test accuracy, model always predicts \"0\": {acc_bs_zero:.1%}')\n",
    "    return acc_train, acc_test"
   ]
  },
  {
   "cell_type": "code",
   "execution_count": 150,
   "metadata": {},
   "outputs": [
    {
     "name": "stdout",
     "output_type": "stream",
     "text": [
      "train accuracy: 97.6%\n",
      "test accuracy: 74.0%\n",
      "\n",
      "baseline:\n",
      "test accuracy, model always predicts \"1\": 66.0%\n",
      "test accuracy, model always predicts \"0\": 34.0%\n"
     ]
    },
    {
     "data": {
      "text/plain": [
       "(0.9760765550239234, 0.74)"
      ]
     },
     "execution_count": 150,
     "metadata": {},
     "output_type": "execute_result"
    }
   ],
   "source": [
    "evaluate_performance(X_train, Y_train, X_test, Y_test, params)"
   ]
  },
  {
   "cell_type": "markdown",
   "metadata": {},
   "source": [
    "# EXPERIMENTS"
   ]
  },
  {
   "cell_type": "code",
   "execution_count": null,
   "metadata": {},
   "outputs": [],
   "source": [
    "def experiment_with_learning_rate(X_train, Y_train, X_test, Y_test, learning_rates, nb_iterations=2000):\n",
    "    res_cost = dict()\n",
    "    res_acc = dict() \n",
    "\n",
    "    for lr in learning_rates:\n",
    "        params, costs = train(X_train, Y_train, nb_iterations, lr)\n",
    "        acc_train, acc_test = evaluate_performance(X_train, Y_train, X_test, Y_test, params, print_perf=False)\n",
    "\n",
    "        res_cost[lr] = costs\n",
    "        res_acc[lr] = (acc_train, acc_test)\n",
    "        \n",
    "        plt.plot(res_cost[lr], label= lr)\n",
    "    \n",
    "    ## display the evolution of the cost\n",
    "    plt.xlabel = \"iteration ( % 100)\"\n",
    "    plt.ylabel = \"cost\"\n",
    "    plt.legend(loc='upper center', shadow=True)\n",
    "    plt.show()\n",
    "\n",
    "    ## display the accuracy\n",
    "    for lr in learning_rates:\n",
    "        print(f'LR = {lr} / train accuracy = {res_acc[lr][0]:.1%}, test accuracy = {res_acc[lr][1]:.1%}')\n"
   ]
  },
  {
   "cell_type": "code",
   "execution_count": null,
   "metadata": {},
   "outputs": [],
   "source": [
    "learning_rates = [10**-4, 10**-3, 10**-2, 10**-1]\n",
    "nb_iterations = 10000\n",
    "experiment_with_learning_rate(X_train, Y_train, X_test, Y_test, learning_rates, nb_iterations)"
   ]
  }
 ],
 "metadata": {
  "kernelspec": {
   "display_name": "Python 3.9.15 ('.venv': poetry)",
   "language": "python",
   "name": "python3"
  },
  "language_info": {
   "codemirror_mode": {
    "name": "ipython",
    "version": 3
   },
   "file_extension": ".py",
   "mimetype": "text/x-python",
   "name": "python",
   "nbconvert_exporter": "python",
   "pygments_lexer": "ipython3",
   "version": "3.9.15"
  },
  "orig_nbformat": 4,
  "vscode": {
   "interpreter": {
    "hash": "a19105ebd9057427e746efa9b30330b5b6764df49ff5bc57f6bbe079f3f763c4"
   }
  }
 },
 "nbformat": 4,
 "nbformat_minor": 2
}
