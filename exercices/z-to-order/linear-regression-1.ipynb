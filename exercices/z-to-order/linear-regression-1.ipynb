{
 "cells": [
  {
   "cell_type": "markdown",
   "metadata": {},
   "source": [
    "# régression linéaire"
   ]
  },
  {
   "cell_type": "markdown",
   "metadata": {},
   "source": [
    "Considérons un modèle simple permettant de prédire le **prix d'une maison**. Le prix ne dépend que du **nombre de pièces** dans la maison, de telle sorte que:\n",
    "\n",
    "**Prix maison** = W * (nombre de pièces) + B"
   ]
  },
  {
   "cell_type": "markdown",
   "metadata": {},
   "source": [
    "### Générer des données artificielles d'entrainement"
   ]
  },
  {
   "cell_type": "code",
   "execution_count": 2,
   "metadata": {},
   "outputs": [],
   "source": [
    "import numpy as np\n",
    "\n",
    "X = np.array(range(50))\n",
    "w_r = 9\n",
    "b_r = 2.1\n",
    "y = w_r*X + b_r"
   ]
  },
  {
   "cell_type": "markdown",
   "metadata": {},
   "source": [
    "### Implémenter une descente de gradient"
   ]
  },
  {
   "cell_type": "code",
   "execution_count": 1,
   "metadata": {},
   "outputs": [
    {
     "ename": "NameError",
     "evalue": "name 'X' is not defined",
     "output_type": "error",
     "traceback": [
      "\u001b[0;31m---------------------------------------------------------------------------\u001b[0m",
      "\u001b[0;31mNameError\u001b[0m                                 Traceback (most recent call last)",
      "\u001b[1;32m/Users/selimrbd/Desktop/projects/deeplearning-course/exercices/linear-regression-1.ipynb Cell 6\u001b[0m in \u001b[0;36m<cell line: 8>\u001b[0;34m()\u001b[0m\n\u001b[1;32m      <a href='vscode-notebook-cell:/Users/selimrbd/Desktop/projects/deeplearning-course/exercices/linear-regression-1.ipynb#W5sZmlsZQ%3D%3D?line=3'>4</a>\u001b[0m nb_steps \u001b[39m=\u001b[39m \u001b[39m30000\u001b[39m\n\u001b[1;32m      <a href='vscode-notebook-cell:/Users/selimrbd/Desktop/projects/deeplearning-course/exercices/linear-regression-1.ipynb#W5sZmlsZQ%3D%3D?line=5'>6</a>\u001b[0m d \u001b[39m=\u001b[39m \u001b[39mdict\u001b[39m()\n\u001b[0;32m----> <a href='vscode-notebook-cell:/Users/selimrbd/Desktop/projects/deeplearning-course/exercices/linear-regression-1.ipynb#W5sZmlsZQ%3D%3D?line=7'>8</a>\u001b[0m yp \u001b[39m=\u001b[39m w\u001b[39m*\u001b[39mX \u001b[39m+\u001b[39m b\n\u001b[1;32m      <a href='vscode-notebook-cell:/Users/selimrbd/Desktop/projects/deeplearning-course/exercices/linear-regression-1.ipynb#W5sZmlsZQ%3D%3D?line=8'>9</a>\u001b[0m error \u001b[39m=\u001b[39m ((y \u001b[39m-\u001b[39m yp)\u001b[39m*\u001b[39m\u001b[39m*\u001b[39m\u001b[39m2\u001b[39m)\u001b[39m.\u001b[39msum()\u001b[39m/\u001b[39m\u001b[39mlen\u001b[39m(y)\n\u001b[1;32m     <a href='vscode-notebook-cell:/Users/selimrbd/Desktop/projects/deeplearning-course/exercices/linear-regression-1.ipynb#W5sZmlsZQ%3D%3D?line=9'>10</a>\u001b[0m d[\u001b[39m'\u001b[39m\u001b[39mw\u001b[39m\u001b[39m'\u001b[39m] \u001b[39m=\u001b[39m [w]\n",
      "\u001b[0;31mNameError\u001b[0m: name 'X' is not defined"
     ]
    }
   ],
   "source": [
    "w = 1\n",
    "b = 3.4\n",
    "lr = 0.001\n",
    "nb_steps = 30000\n",
    "\n",
    "d = dict()\n",
    "\n",
    "yp = w*X + b\n",
    "error = ((y - yp)**2).sum()/len(y)\n",
    "d['w'] = [w]\n",
    "d['b'] = [b]\n",
    "d['error'] = [error]\n",
    "\n",
    "print(f'initial weight values:\\nw = {w}\\nb = {b}')\n",
    "\n",
    "for i in range(nb_steps):\n",
    "    yp = w*X + b\n",
    "    error = ((y - yp)**2).sum()/len(y)\n",
    "    derr_w = (2*(-X)*(y-yp)).sum()/len(y)\n",
    "    derr_b = (2*(-1)*(y-yp)).sum()/len(y)\n",
    "    w = w - lr*derr_w\n",
    "    b = b - lr*derr_b\n",
    "    d['w'].append(w)\n",
    "    d['b'].append(b)\n",
    "    d['error'].append(error)\n",
    "    \n",
    "print(f'final weight values:\\nw = {w} (real: {w_r})\\nb = {b} (real: {b_r})')\n",
    "print(f'final error:\\n MSE = {error}\\nRMSE = {np.sqrt(error)}')"
   ]
  },
  {
   "cell_type": "code",
   "execution_count": 1,
   "metadata": {},
   "outputs": [],
   "source": [
    "import matplotlib.pyplot as pyplot"
   ]
  },
  {
   "cell_type": "code",
   "execution_count": null,
   "metadata": {},
   "outputs": [],
   "source": []
  }
 ],
 "metadata": {
  "kernelspec": {
   "display_name": "Python 3.9.12 ('dl-course')",
   "language": "python",
   "name": "python3"
  },
  "language_info": {
   "codemirror_mode": {
    "name": "ipython",
    "version": 3
   },
   "file_extension": ".py",
   "mimetype": "text/x-python",
   "name": "python",
   "nbconvert_exporter": "python",
   "pygments_lexer": "ipython3",
   "version": "3.9.12"
  },
  "vscode": {
   "interpreter": {
    "hash": "6038d4cb95946006ed8d8c2170a1217991ebf337ef4e412a4a3c29e9fb1e14a8"
   }
  }
 },
 "nbformat": 4,
 "nbformat_minor": 2
}
