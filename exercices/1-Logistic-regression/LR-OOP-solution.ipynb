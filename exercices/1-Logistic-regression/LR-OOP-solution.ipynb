{
 "cells": [
  {
   "cell_type": "markdown",
   "metadata": {},
   "source": [
    "## environment setup"
   ]
  },
  {
   "cell_type": "code",
   "execution_count": 1,
   "metadata": {},
   "outputs": [],
   "source": [
    "from pathlib import Path\n",
    "import joblib\n",
    "import random\n",
    "import matplotlib.pyplot as plt\n",
    "import numpy as np\n",
    "from PIL import Image\n",
    "import sys\n",
    "from typing import Union\n",
    "sys.path.append('..')\n",
    "from utils.planar_utils import load_planar_dataset"
   ]
  },
  {
   "cell_type": "markdown",
   "metadata": {},
   "source": [
    "## load the dataset"
   ]
  },
  {
   "cell_type": "code",
   "execution_count": 2,
   "metadata": {},
   "outputs": [],
   "source": [
    "## CATVSNONCAT DATASET ##\n",
    "###########################\n",
    "def load_data():\n",
    "    \"\"\"\n",
    "    Load the train and test set.\n",
    "\n",
    "    Returns:\n",
    "        - (X_train, Y_train, X_test, Y_test)\n",
    "    \"\"\"\n",
    "\n",
    "    path = Path('../../data/catvnoncat/data.pkl')\n",
    "    with open(path, \"rb\") as f:\n",
    "        data = joblib.load(f)\n",
    "\n",
    "    X_train = data[\"train_set_x\"]\n",
    "    Y_train = data[\"train_set_y\"]\n",
    "    X_test = data[\"test_set_x\"]\n",
    "    Y_test = data[\"test_set_y\"]\n",
    "\n",
    "    return X_train, Y_train, X_test, Y_test\n",
    "############################\n",
    "############################"
   ]
  },
  {
   "cell_type": "code",
   "execution_count": 3,
   "metadata": {},
   "outputs": [
    {
     "name": "stdout",
     "output_type": "stream",
     "text": [
      "X_train_orig shape: (209, 64, 64, 3)\n",
      "Y_train_orig shape: (209,)\n",
      "X_test_orig shape: (50, 64, 64, 3)\n",
      "Y_test_orig shape: (50,)\n"
     ]
    }
   ],
   "source": [
    "X_train_orig, Y_train_orig, X_test_orig, Y_test_orig = load_data()\n",
    "\n",
    "print(f\"X_train_orig shape: {X_train_orig.shape}\")\n",
    "print(f\"Y_train_orig shape: {Y_train_orig.shape}\")\n",
    "print(f\"X_test_orig shape: {X_test_orig.shape}\")\n",
    "print(f\"Y_test_orig shape: {Y_test_orig.shape}\")"
   ]
  },
  {
   "cell_type": "markdown",
   "metadata": {},
   "source": [
    "## visualize the data"
   ]
  },
  {
   "cell_type": "code",
   "execution_count": 4,
   "metadata": {},
   "outputs": [],
   "source": [
    "## CATVSNONCAT DATASET ##\n",
    "#########################\n",
    "def visualize_data(X, Y):\n",
    "    \"\"\"\n",
    "    Displays a random image from the CATVNONCAT dataset with its label\n",
    "    \"\"\"\n",
    "    m = X.shape[0]\n",
    "    i = random.randint(0, m-1)\n",
    "    x = X[i]\n",
    "    y = Y[i]\n",
    "    labels = {0: \"non-cat\", 1: \"cat\"}\n",
    "    print(f'label: {labels[y]}')\n",
    "    plt.imshow(x)\n",
    "####################\n",
    "####################"
   ]
  },
  {
   "cell_type": "code",
   "execution_count": 5,
   "metadata": {},
   "outputs": [
    {
     "name": "stdout",
     "output_type": "stream",
     "text": [
      "label: cat\n"
     ]
    },
    {
     "data": {
      "image/png": "[encoded data removed]",
      "text/plain": [
       "<Figure size 640x480 with 1 Axes>"
      ]
     },
     "metadata": {},
     "output_type": "display_data"
    }
   ],
   "source": [
    "visualize_data(X_train_orig, Y_train_orig)"
   ]
  },
  {
   "cell_type": "markdown",
   "metadata": {},
   "source": [
    "## preprocess the data"
   ]
  },
  {
   "cell_type": "code",
   "execution_count": 6,
   "metadata": {},
   "outputs": [],
   "source": [
    "## CATVSNONCAT DATASET ##\n",
    "#########################\n",
    "def preprocess_data(X, Y = None):\n",
    "    \"\"\"Preprocess input data, in order to be fed as the input of the neural network.\n",
    "    \n",
    "    Operations:\n",
    "        - Reshaping of the arrays to fit the Neural Network Input\n",
    "        - Normalization\n",
    "    Returns:\n",
    "        (X_pp, Y_pp)\n",
    "        \n",
    "        using the following notations:\n",
    "        - n_x: number of features in the input of the neural network\n",
    "        - m: number of observations \n",
    "        X_pp: normalized matrix of size (n_x, m)\n",
    "        Y_pp: normalized array of size (1, m)\n",
    "    \"\"\"\n",
    "    m = X.shape[0]\n",
    "\n",
    "    ## Reshape the arrays\n",
    "    ### START CODE ###\n",
    "    X = X.reshape(m, -1).T\n",
    "    if Y is not None:\n",
    "        Y = Y.reshape(m, 1).T\n",
    "    ### END CODE ###\n",
    "\n",
    "    ## normalization\n",
    "    ### START CODE ###\n",
    "    X = X / 255.\n",
    "    ### END CODE ###\n",
    "    return X,Y\n",
    "\n",
    "####################\n",
    "####################"
   ]
  },
  {
   "cell_type": "code",
   "execution_count": 7,
   "metadata": {},
   "outputs": [
    {
     "name": "stdout",
     "output_type": "stream",
     "text": [
      "X_train shape: (12288, 209)\n",
      "Y_train shape: (1, 209)\n",
      "X_test shape: (12288, 50)\n",
      "Y_test shape: (1, 50)\n"
     ]
    }
   ],
   "source": [
    "X_train, Y_train = preprocess_data(X_train_orig, Y_train_orig)\n",
    "X_test, Y_test = preprocess_data(X_test_orig, Y_test_orig)\n",
    "\n",
    "print(f\"X_train shape: {X_train.shape}\")\n",
    "print(f\"Y_train shape: {Y_train.shape}\")\n",
    "print(f\"X_test shape: {X_test.shape}\")\n",
    "print(f\"Y_test shape: {Y_test.shape}\")"
   ]
  },
  {
   "cell_type": "markdown",
   "metadata": {},
   "source": [
    "## implement the logistic regression class"
   ]
  },
  {
   "cell_type": "code",
   "execution_count": 31,
   "metadata": {},
   "outputs": [],
   "source": [
    "class LogisticRegression:\n",
    "\n",
    "    def __init__(self, n_0: int):\n",
    "        \"\"\"\n",
    "        Args:\n",
    "            - n_0: size of the input layer\n",
    "        \"\"\"\n",
    "        self.n_0 = n_0\n",
    "        self.n_1 = 1\n",
    "        self.params = None\n",
    "\n",
    "    def initialize_params(self):\n",
    "        W = np.zeros((self.n_1, self.n_0))\n",
    "        b = np.zeros(self.n_1)\n",
    "        params = {\n",
    "            \"W\": W,\n",
    "            \"b\": b\n",
    "        }\n",
    "        self.params = params\n",
    "\n",
    "    def forward_propagate(self, X):\n",
    "        \"\"\"Perform the forward propagation operation.\n",
    "        \n",
    "        Args:\n",
    "            - X: a dataset of observation (shape: n_0, m)\n",
    "\n",
    "        Returns:\n",
    "            - A: the matrix of activations of the output layer\n",
    "        \"\"\"\n",
    "        ### START CODE ###\n",
    "        W = self.params[\"W\"]\n",
    "        b = self.params[\"b\"]\n",
    "        A = self.sigmoid(np.dot(W, X) + b)\n",
    "        ### END CODE ###\n",
    "        return A\n",
    "    \n",
    "    def compute_cost(self, A, Y):\n",
    "        \"\"\"Compute the cost of the output layer activation.\n",
    "        \n",
    "        Args:\n",
    "            - A: the matrix of activations of the output layer. Shape: (n_1,m)\n",
    "            - Y: ground truths. Shape: (n_1,m)\n",
    "        \"\"\"\n",
    "        ### START CODE ###\n",
    "        m = A.shape[1]\n",
    "        cost = -(1/m)*np.sum(Y*np.log(A) + (1-Y)*np.log(1-A))\n",
    "        ### END CODE ###\n",
    "        \n",
    "        return cost\n",
    "\n",
    "    def backward_propagate(self, X, Y, A):\n",
    "        \"\"\"The Backward propagation operation.\n",
    "        \n",
    "        Args:\n",
    "            - X: the matrix of observations. Shape: (n_0, m)\n",
    "            - Y: ground truths. Shape: (n_1, m)\n",
    "            - A: the activations of the output layer. Shape: (n_1, m)\n",
    "        \n",
    "        Returns:\n",
    "            - grads: a dictionary containing the gradients for all model parameters. {\"dW\": dW, \"db\": db}\n",
    "        \"\"\"\n",
    "        m = X.shape[1]\n",
    "        grads = dict()\n",
    "        grads[\"dW\"] = (1/m) * np.dot((A-Y), X.T)\n",
    "        grads[\"db\"] = (1/m) * np.sum(A-Y)\n",
    "        ### END CODE ###\n",
    "        \n",
    "        return grads\n",
    "\n",
    "    def update_params(self, grads, learning_rate):\n",
    "        \"\"\"Update weights using gradient descent.\n",
    "        \n",
    "        Args:\n",
    "            - params: a dictionary of the model parameters: {\"W\": W, \"b\": b}\n",
    "            - grads: a dictionary containing the gradients for all model parameters. {\"dW\": dW, \"db\": db}\n",
    "            - learning_rate: the learning rate (float number)\n",
    "        Returns:\n",
    "            - params: a dictionary of the model parameters updated: {\"W\": W, \"b\": b}\n",
    "        \"\"\"\n",
    "        W = self.params[\"W\"]\n",
    "        b = self.params[\"b\"]\n",
    "        dW = grads[\"dW\"]\n",
    "        db = grads[\"db\"]\n",
    "\n",
    "        W = W - learning_rate*dW\n",
    "        b = b - learning_rate*db\n",
    "\n",
    "        self.params[\"W\"] = W\n",
    "        self.params[\"b\"] = b\n",
    "\n",
    "\n",
    "    def train(self, X_train, Y_train, nb_iterations: int, learning_rate: float):\n",
    "        \"\"\"Combines all the operations necessary to train the logistic regression.\n",
    "    \n",
    "        Args:\n",
    "            - X_train: the matrix of observations. Shape: (n_0, m)\n",
    "            - Y_train: ground truths. Shape: (n_1, m)\n",
    "            - nb_iterations: number of iterations to perform gradient descent\n",
    "            - learning_rate: the learning rate (float number)\n",
    "\n",
    "        Returns:\n",
    "            - (params, cost) with:\n",
    "                - params: dictionary of the model parameters: {\"W\": W, \"b\": b}\n",
    "                - costs: list of the costs for each 100th iteration (iteration 1, iteration 100, etc.)\n",
    "        \"\"\"\n",
    "\n",
    "        self.initialize_params()\n",
    "\n",
    "        costs = list()\n",
    "\n",
    "        for i in range(nb_iterations):\n",
    "            A = self.forward_propagate(X_train)\n",
    "            cost = self.compute_cost(A, Y_train)\n",
    "            grads = self.backward_propagate(X_train, Y_train, A)\n",
    "            self.update_params(grads, learning_rate)\n",
    "\n",
    "            if (i % 100) == 0:# we store the cost each 100 iterations\n",
    "                costs.append(cost)\n",
    "        \n",
    "        return costs\n",
    "\n",
    "    def predict_proba(self, X, threshold = 0.5):\n",
    "        \"\"\"Predicts the output of the logistic regression.\n",
    "\n",
    "        Args:\n",
    "            - params: dictionary of the model parameters: {\"W\": W, \"b\": b}\n",
    "            - X: a matrix of observations. Shape: (n_0, ?)\n",
    "            - threshold: threshold to use for the prediction (default 0.5 means: if p >= 0.5, we predict 1, else 0)\n",
    "        \n",
    "        Returns:\n",
    "            - Yp: vector of predictions.\n",
    "        \"\"\"\n",
    "        A = self.forward_propagate(X)\n",
    "        return A\n",
    "\n",
    "    def predict(self, X, threshold = 0.5):\n",
    "        \"\"\"Predicts the output of the logistic regression.\n",
    "\n",
    "        Args:\n",
    "            - params: dictionary of the model parameters: {\"W\": W, \"b\": b}\n",
    "            - X: a matrix of observations. Shape: (n_0, ?)\n",
    "            - threshold: threshold to use for the prediction (default 0.5 means: if p >= 0.5, we predict 1, else 0)\n",
    "        \n",
    "        Returns:\n",
    "            - Yp: vector of predictions.\n",
    "        \"\"\"\n",
    "        A = self.predict_proba(X)\n",
    "        Yp = 1*(A >= threshold)\n",
    "        return Yp\n",
    "\n",
    "\n",
    "    def evaluate_performance(self, X_train, Y_train, X_test, Y_test, print_perf=True):\n",
    "        \"\"\"Evaluates the performance of the logistic regression.\n",
    "        \n",
    "        Args:\n",
    "            - X_train: matrix of observations for the training set\n",
    "            - Y_train: ground truths for the training set\n",
    "            - X_test: matrix of observations for the test set\n",
    "            - Y_test: ground truths for the test set\n",
    "            - params: the logistic regression parameters\n",
    "            - print_perf: boolean. If true, prints the performance on the train and test set, as well as the baseline performance.\n",
    "\n",
    "        Returns:\n",
    "            - (acc_train, acc_test) where:\n",
    "                - acc_train: accuracy on the train set\n",
    "                - acc_test: accuracy on the test set\n",
    "        \"\"\"\n",
    "        Yp_train = self.predict(X_train)\n",
    "        Yp_test = self.predict(X_test)\n",
    "        \n",
    "        acc_train = np.mean(Yp_train == Y_train)\n",
    "        acc_test = np.mean(Yp_test == Y_test)\n",
    "\n",
    "        if print_perf:\n",
    "            print(f'train accuracy: {acc_train:.1%}')\n",
    "            print(f'test accuracy: {acc_test:.1%}')\n",
    "            print(\"\")\n",
    "            \n",
    "            acc_bs_one = (Y_test == 1).mean()\n",
    "            acc_bs_zero = (Y_test == 0).mean()\n",
    "            print('baseline:')\n",
    "            print(f'test accuracy, model always predicts \"1\": {acc_bs_one:.1%}')\n",
    "            print(f'test accuracy, model always predicts \"0\": {acc_bs_zero:.1%}')\n",
    "\n",
    "        return acc_train, acc_test\n",
    "\n",
    "    @staticmethod\n",
    "    def sigmoid(z: Union[np.array, float]) -> Union[np.array, float]:\n",
    "        \"\"\"The sigmoid function.\n",
    "        Args:\n",
    "            - z: a numpy array or float\n",
    "        Returns:\n",
    "            - sigmoid(z)\n",
    "        \"\"\"\n",
    "        return 1 / (1 + np.exp(-z))"
   ]
  },
  {
   "cell_type": "markdown",
   "metadata": {},
   "source": [
    "## test the class"
   ]
  },
  {
   "cell_type": "code",
   "execution_count": 32,
   "metadata": {},
   "outputs": [],
   "source": [
    "n_0 = X_train.shape[0]\n",
    "model = LogisticRegression(n_0)"
   ]
  },
  {
   "cell_type": "code",
   "execution_count": 33,
   "metadata": {},
   "outputs": [],
   "source": [
    "nb_it = 2000\n",
    "lr = 0.01\n",
    "costs = model.train(X_train, Y_train, nb_it, lr)"
   ]
  },
  {
   "cell_type": "code",
   "execution_count": 35,
   "metadata": {},
   "outputs": [
    {
     "name": "stdout",
     "output_type": "stream",
     "text": [
      "train accuracy: 99.5%\n",
      "test accuracy: 70.0%\n",
      "\n",
      "baseline:\n",
      "test accuracy, model always predicts \"1\": 66.0%\n",
      "test accuracy, model always predicts \"0\": 34.0%\n"
     ]
    },
    {
     "data": {
      "text/plain": [
       "(0.9952153110047847, 0.7)"
      ]
     },
     "execution_count": 35,
     "metadata": {},
     "output_type": "execute_result"
    }
   ],
   "source": [
    "model.evaluate_performance(X_train, Y_train, X_test, Y_test)"
   ]
  },
  {
   "cell_type": "code",
   "execution_count": 30,
   "metadata": {},
   "outputs": [
    {
     "data": {
      "text/plain": [
       "array([[0.97744653, 0.93191718, 0.9259746 , 0.97370439, 0.80630695,\n",
       "        0.5842876 , 0.00739817, 0.90060993, 0.91766994, 0.71941189,\n",
       "        0.16021283, 0.45060685, 0.78174999, 0.88033773, 0.00234832,\n",
       "        0.9682785 , 0.01033801, 0.92554244, 0.11868406, 0.00968385,\n",
       "        0.97773033, 0.10981217, 0.00373846, 0.8853758 , 0.51210909,\n",
       "        0.6657113 , 0.87004828, 0.0027462 , 0.00879733, 0.99961704,\n",
       "        0.08731211, 0.83141901, 0.6773892 , 0.51174238, 0.64806343,\n",
       "        0.01212625, 0.03214257, 0.80744254, 0.24846504, 0.03127483,\n",
       "        0.7687425 , 0.28389325, 0.72013956, 0.0077735 , 0.97653729,\n",
       "        0.70540637, 0.15182597, 0.99410592, 0.75526241, 0.06406822]])"
      ]
     },
     "execution_count": 30,
     "metadata": {},
     "output_type": "execute_result"
    }
   ],
   "source": [
    "model.predict_proba(X_test)"
   ]
  },
  {
   "cell_type": "code",
   "execution_count": 29,
   "metadata": {},
   "outputs": [
    {
     "data": {
      "text/plain": [
       "array([[1, 1, 1, 1, 1, 1, 0, 1, 1, 1, 0, 0, 1, 1, 0, 1, 0, 1, 0, 0, 1, 0,\n",
       "        0, 1, 1, 1, 1, 0, 0, 1, 0, 1, 1, 1, 1, 0, 0, 1, 0, 0, 1, 0, 1, 0,\n",
       "        1, 1, 0, 1, 1, 0]])"
      ]
     },
     "execution_count": 29,
     "metadata": {},
     "output_type": "execute_result"
    }
   ],
   "source": [
    "model.predict(X_test)"
   ]
  }
 ],
 "metadata": {
  "kernelspec": {
   "display_name": "Python 3.9.15 ('.venv': poetry)",
   "language": "python",
   "name": "python3"
  },
  "language_info": {
   "codemirror_mode": {
    "name": "ipython",
    "version": 3
   },
   "file_extension": ".py",
   "mimetype": "text/x-python",
   "name": "python",
   "nbconvert_exporter": "python",
   "pygments_lexer": "ipython3",
   "version": "3.9.15"
  },
  "orig_nbformat": 4,
  "vscode": {
   "interpreter": {
    "hash": "a19105ebd9057427e746efa9b30330b5b6764df49ff5bc57f6bbe079f3f763c4"
   }
  }
 },
 "nbformat": 4,
 "nbformat_minor": 2
}
