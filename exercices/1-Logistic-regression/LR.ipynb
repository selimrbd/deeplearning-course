{
 "cells": [
  {
   "cell_type": "markdown",
   "metadata": {},
   "source": [
    "# TRAIN A LOGISTIC REGRESSION"
   ]
  },
  {
   "cell_type": "markdown",
   "metadata": {},
   "source": [
    "In this notebook, we will implement and train a logistic regression, as a 1-layer neural network.\n",
    "\n",
    "---\n",
    "\n",
    "**IMPORTANT**: for all the neural networks we will implement, **we will go through the same 12 steps**:\n",
    "\n",
    "- load the dataset (**load_data**)\n",
    "\n",
    "- visualize it (**visualize_data**)\n",
    "- preprocess the dataset (**preprocess_data**)\n",
    "- define the network structure (**get_layer_sizes**)\n",
    "- initialize the parameters (**initialize_params**)\n",
    "- define the forward propagation step (**forward_propagate**)\n",
    "- calculate the cost (**compute_cost**)\n",
    "- define the backward propagation step (**backward_propagate**)\n",
    "- update the model parameters (**update_params**)\n",
    "- integrate all the steps in a training function (**train**)\n",
    "- predict on new elements (**predict**)\n",
    "- evaluate the performance of the model (**evaluate_performance**)\n",
    "\n",
    "---\n",
    "\n",
    "In the second part of the notebook, we will experiment with hyperparameters, in particular the number of iterations and the learning rate\n",
    "\n",
    "\n",
    "Ready ? Let's go !"
   ]
  },
  {
   "cell_type": "code",
   "execution_count": 6,
   "metadata": {},
   "outputs": [],
   "source": [
    "from pathlib import Path\n",
    "import joblib\n",
    "import random\n",
    "import matplotlib.pyplot as plt\n",
    "import numpy as np\n",
    "from PIL import Image\n",
    "import sys\n",
    "from typing import Union\n",
    "sys.path.append('..')\n",
    "from utils.planar_utils import load_planar_dataset"
   ]
  },
  {
   "cell_type": "markdown",
   "metadata": {},
   "source": [
    "## helper functions"
   ]
  },
  {
   "cell_type": "code",
   "execution_count": 7,
   "metadata": {},
   "outputs": [],
   "source": [
    "def sigmoid(z: Union[np.array, float]) -> Union[np.array, float]:\n",
    "    \"\"\"The sigmoid function.\n",
    "    Args:\n",
    "        - z: a numpy array or float\n",
    "    Returns:\n",
    "        - sigmoid(z)\n",
    "    \"\"\"\n",
    "    ### START CODE ###\n",
    "    return ...\n",
    "    ### END CODE ###"
   ]
  },
  {
   "cell_type": "markdown",
   "metadata": {},
   "source": [
    "## load data"
   ]
  },
  {
   "cell_type": "code",
   "execution_count": 8,
   "metadata": {},
   "outputs": [],
   "source": [
    "## CATVSNONCAT DATASET ##\n",
    "###########################\n",
    "def load_data():\n",
    "    \"\"\"\n",
    "    Load the train and test set.\n",
    "\n",
    "    Returns:\n",
    "        - (X_train, Y_train, X_test, Y_test)\n",
    "    \"\"\"\n",
    "\n",
    "    path = Path('../../data/catvnoncat/data.pkl')\n",
    "    with open(path, \"rb\") as f:\n",
    "        data = joblib.load(f)\n",
    "\n",
    "    X_train = data[\"train_set_x\"]\n",
    "    Y_train = data[\"train_set_y\"]\n",
    "    X_test = data[\"test_set_x\"]\n",
    "    Y_test = data[\"test_set_y\"]\n",
    "\n",
    "    return X_train, Y_train, X_test, Y_test\n",
    "############################\n",
    "############################"
   ]
  },
  {
   "cell_type": "code",
   "execution_count": 10,
   "metadata": {},
   "outputs": [
    {
     "name": "stdout",
     "output_type": "stream",
     "text": [
      "X_train_orig shape: (209, 64, 64, 3)\n",
      "Y_train_orig shape: (209,)\n",
      "X_test_orig shape: (50, 64, 64, 3)\n",
      "Y_test_orig shape: (50,)\n"
     ]
    }
   ],
   "source": [
    "X_train_orig, Y_train_orig, X_test_orig, Y_test_orig = load_data()\n",
    "\n",
    "print(f\"X_train_orig shape: {X_train_orig.shape}\")\n",
    "print(f\"Y_train_orig shape: {Y_train_orig.shape}\")\n",
    "print(f\"X_test_orig shape: {X_test_orig.shape}\")\n",
    "print(f\"Y_test_orig shape: {Y_test_orig.shape}\")"
   ]
  },
  {
   "cell_type": "markdown",
   "metadata": {},
   "source": [
    "## visualize data"
   ]
  },
  {
   "cell_type": "code",
   "execution_count": 11,
   "metadata": {},
   "outputs": [],
   "source": [
    "## CATVSNONCAT DATASET ##\n",
    "#########################\n",
    "def visualize_data(X, Y):\n",
    "    \"\"\"\n",
    "    Displays a random image from the CATVNONCAT dataset with its label\n",
    "    \"\"\"\n",
    "    m = X.shape[0]\n",
    "    i = random.randint(0, m-1)\n",
    "    x = X[i]\n",
    "    y = Y[i]\n",
    "    labels = {0: \"non-cat\", 1: \"cat\"}\n",
    "    print(f'label: {labels[y]}')\n",
    "    plt.imshow(x)\n",
    "####################\n",
    "####################"
   ]
  },
  {
   "cell_type": "code",
   "execution_count": 13,
   "metadata": {},
   "outputs": [
    {
     "name": "stdout",
     "output_type": "stream",
     "text": [
      "label: non-cat\n"
     ]
    },
    {
     "data": {
      "image/png": "[encoded data removed]",
      "text/plain": [
       "<Figure size 640x480 with 1 Axes>"
      ]
     },
     "metadata": {},
     "output_type": "display_data"
    }
   ],
   "source": [
    "visualize_data(X_train_orig, Y_train_orig)"
   ]
  },
  {
   "cell_type": "markdown",
   "metadata": {},
   "source": [
    "## preprocess data"
   ]
  },
  {
   "cell_type": "code",
   "execution_count": 14,
   "metadata": {},
   "outputs": [],
   "source": [
    "## CATVSNONCAT DATASET ##\n",
    "#########################\n",
    "def preprocess_data(X, Y = None):\n",
    "    \"\"\"Preprocess input data, in order to be fed as the input of the neural network.\n",
    "    \n",
    "    Operations:\n",
    "        - Reshaping of the arrays to fit the Neural Network Input\n",
    "        - Normalization\n",
    "    Returns:\n",
    "        (X_pp, Y_pp)\n",
    "        \n",
    "        using the following notations:\n",
    "        - n_x: number of features in the input of the neural network\n",
    "        - m: number of observations \n",
    "        X_pp: normalized matrix of size (n_x, m)\n",
    "        Y_pp: normalized array of size (1, m)\n",
    "    \"\"\"\n",
    "    m = X.shape[0]\n",
    "\n",
    "    ## Reshape the arrays\n",
    "    ### START CODE ###\n",
    "    ...\n",
    "    ### END CODE ###\n",
    "\n",
    "    ## normalization\n",
    "    ### START CODE ###\n",
    "    ...\n",
    "    ### END CODE ###\n",
    "    \n",
    "    return X,Y\n",
    "\n",
    "####################\n",
    "####################"
   ]
  },
  {
   "cell_type": "code",
   "execution_count": 16,
   "metadata": {},
   "outputs": [
    {
     "name": "stdout",
     "output_type": "stream",
     "text": [
      "X_train shape: (12288, 209)\n",
      "Y_train shape: (1, 209)\n",
      "X_test shape: (12288, 50)\n",
      "Y_test shape: (1, 50)\n"
     ]
    }
   ],
   "source": [
    "X_train, Y_train = preprocess_data(X_train_orig, Y_train_orig)\n",
    "X_test, Y_test = preprocess_data(X_test_orig, Y_test_orig)\n",
    "\n",
    "print(f\"X_train shape: {X_train.shape}\")\n",
    "print(f\"Y_train shape: {Y_train.shape}\")\n",
    "print(f\"X_test shape: {X_test.shape}\")\n",
    "print(f\"Y_test shape: {Y_test.shape}\")"
   ]
  },
  {
   "cell_type": "markdown",
   "metadata": {},
   "source": [
    "## define the network structure"
   ]
  },
  {
   "cell_type": "markdown",
   "metadata": {},
   "source": [
    "We want to build a logistic regression, which can be seen as the following 1-layer neural network:\n",
    "\n",
    "![](../../schemas/schema-LR.png)"
   ]
  },
  {
   "cell_type": "code",
   "execution_count": 17,
   "metadata": {},
   "outputs": [],
   "source": [
    "def get_layer_sizes(X):\n",
    "    \"\"\"\n",
    "    Returns the size of each neural network layer.\n",
    "    \n",
    "    (n_0, n_1)\n",
    "    \"\"\"\n",
    "    ### START CODE ###\n",
    "    n_0 = ...\n",
    "    n_1 = ...\n",
    "    \n",
    "    ### END CODE ###\n",
    "    return (n_0, n_1)\n",
    "\n"
   ]
  },
  {
   "cell_type": "code",
   "execution_count": 18,
   "metadata": {},
   "outputs": [
    {
     "name": "stdout",
     "output_type": "stream",
     "text": [
      "n_0: 12288\n",
      "n_1: 1\n"
     ]
    }
   ],
   "source": [
    "n_0, n_1 = get_layer_sizes(X_train)\n",
    "print(f\"n_0: {n_0}\")\n",
    "print(f\"n_1: {n_1}\")"
   ]
  },
  {
   "cell_type": "markdown",
   "metadata": {},
   "source": [
    "## initialize the parameters"
   ]
  },
  {
   "cell_type": "code",
   "execution_count": 20,
   "metadata": {},
   "outputs": [],
   "source": [
    "def initialize_params(n_0: int, n_1: int):\n",
    "    \"\"\"Initialize the logistic regression parameters.\n",
    "    \n",
    "    Args:\n",
    "        - n_0: the number of neurons for the input layer\n",
    "        - n_1: the number of neurons of the output layer\n",
    "    \n",
    "    Returns:\n",
    "        - params: a dictionary of the model parameters: {\"W\": W, \"b\": b}\n",
    "    \"\"\"\n",
    "    ### START CODE ###\n",
    "    W = ...\n",
    "    b = ...\n",
    "    ### END CODE ###\n",
    "    params = {\n",
    "            \"W\": W,\n",
    "            \"b\": b\n",
    "        }\n",
    "        \n",
    "    return params"
   ]
  },
  {
   "cell_type": "code",
   "execution_count": 21,
   "metadata": {},
   "outputs": [],
   "source": [
    "params = initialize_params(n_0, n_1)"
   ]
  },
  {
   "cell_type": "code",
   "execution_count": 22,
   "metadata": {},
   "outputs": [
    {
     "data": {
      "text/plain": [
       "(1, 12288)"
      ]
     },
     "execution_count": 22,
     "metadata": {},
     "output_type": "execute_result"
    }
   ],
   "source": [
    "params[\"W\"].shape"
   ]
  },
  {
   "cell_type": "markdown",
   "metadata": {},
   "source": [
    "## forward propagate"
   ]
  },
  {
   "cell_type": "code",
   "execution_count": 73,
   "metadata": {},
   "outputs": [],
   "source": [
    "def forward_propagate(params, X):\n",
    "    \"\"\"Perform the forward propagation operation.\n",
    "    \n",
    "    Args:\n",
    "        - params: a dictionary of the model parameters: {\"W\": W, \"b\": b}\n",
    "        - X: a dataset of observation (shape: n_0, m)\n",
    "\n",
    "    Returns:\n",
    "        - A: the matrix of activations of the output layer\n",
    "    \"\"\"\n",
    "    ### START CODE ###\n",
    "    ...\n",
    "    A = ...\n",
    "    ### END CODE ###\n",
    "    \n",
    "    return A"
   ]
  },
  {
   "cell_type": "code",
   "execution_count": 74,
   "metadata": {},
   "outputs": [],
   "source": [
    "A = forward_propagate(params, X_train)"
   ]
  },
  {
   "cell_type": "markdown",
   "metadata": {},
   "source": [
    "## compute the cost"
   ]
  },
  {
   "cell_type": "code",
   "execution_count": 75,
   "metadata": {},
   "outputs": [],
   "source": [
    "def compute_cost(A, Y):\n",
    "    \"\"\"Compute the cost of the output layer activation.\n",
    "    \n",
    "    Args:\n",
    "        - A: the matrix of activations of the output layer. Shape: (n_1,m)\n",
    "        - Y: ground truths. Shape: (n_1,m)\n",
    "    \"\"\"\n",
    "    ### START CODE ###\n",
    "    m = ... # the number of observations\n",
    "    cost = ...\n",
    "    ### END CODE ###\n",
    "    \n",
    "    return cost"
   ]
  },
  {
   "cell_type": "code",
   "execution_count": 76,
   "metadata": {},
   "outputs": [
    {
     "data": {
      "text/plain": [
       "0.6931471805599453"
      ]
     },
     "execution_count": 76,
     "metadata": {},
     "output_type": "execute_result"
    }
   ],
   "source": [
    "compute_cost(A, Y_train)"
   ]
  },
  {
   "cell_type": "markdown",
   "metadata": {},
   "source": [
    "## backward propagate"
   ]
  },
  {
   "cell_type": "code",
   "execution_count": 23,
   "metadata": {},
   "outputs": [],
   "source": [
    "def backward_propagate(X, Y, A):\n",
    "    \"\"\"The Backward propagation operation.\n",
    "    \n",
    "    Args:\n",
    "        - X: the matrix of observations. Shape: (n_0, m)\n",
    "        - Y: ground truths. Shape: (n_1, m)\n",
    "        - A: the activations of the output layer. Shape: (n_1, m)\n",
    "    \n",
    "    Returns:\n",
    "        - grads: a dictionary containing the gradients for all model parameters. {\"dW\": dW, \"db\": db}\n",
    "    \"\"\"\n",
    "    ### START CODE ###\n",
    "    \n",
    "    grads = dict()\n",
    "    grads[\"dW\"] = ...\n",
    "    grads[\"db\"] = ...\n",
    "    ### END CODE ###\n",
    "    \n",
    "    return grads"
   ]
  },
  {
   "cell_type": "code",
   "execution_count": 78,
   "metadata": {},
   "outputs": [],
   "source": [
    "grads = backward_propagate(X_train, Y_train, A)"
   ]
  },
  {
   "cell_type": "code",
   "execution_count": 79,
   "metadata": {},
   "outputs": [
    {
     "data": {
      "text/plain": [
       "(1, 12288)"
      ]
     },
     "execution_count": 79,
     "metadata": {},
     "output_type": "execute_result"
    }
   ],
   "source": [
    "grads[\"dW\"].shape"
   ]
  },
  {
   "cell_type": "markdown",
   "metadata": {},
   "source": [
    "## update the parameters"
   ]
  },
  {
   "cell_type": "code",
   "execution_count": 80,
   "metadata": {},
   "outputs": [],
   "source": [
    "def update_params(params, grads, learning_rate):\n",
    "    \"\"\"Update weights using gradient descent.\n",
    "    \n",
    "    Args:\n",
    "        - params: a dictionary of the model parameters: {\"W\": W, \"b\": b}\n",
    "        - grads: a dictionary containing the gradients for all model parameters. {\"dW\": dW, \"db\": db}\n",
    "        - learning_rate: the learning rate (float number)\n",
    "    Returns:\n",
    "        - params: a dictionary of the model parameters updated: {\"W\": W, \"b\": b}\n",
    "    \"\"\"\n",
    "    ### START CODE ###\n",
    "    W = ...\n",
    "    b = ...\n",
    "    dW = ...\n",
    "    db = ...\n",
    "\n",
    "    W = ...\n",
    "    b = ...\n",
    "    ### START CODE ###\n",
    "    params[\"W\"] = W\n",
    "    params[\"b\"] = b\n",
    "    \n",
    "    return params"
   ]
  },
  {
   "cell_type": "code",
   "execution_count": 81,
   "metadata": {},
   "outputs": [],
   "source": [
    "params = update_params(params, grads, 0.01)"
   ]
  },
  {
   "cell_type": "markdown",
   "metadata": {},
   "source": [
    "## train"
   ]
  },
  {
   "cell_type": "code",
   "execution_count": 82,
   "metadata": {},
   "outputs": [],
   "source": [
    "def train(X, Y, nb_iterations, learning_rate):\n",
    "    \"\"\"Combines all the operations necessary to train the logistic regression.\n",
    "    \n",
    "    Args:\n",
    "        - X: the matrix of observations. Shape: (n_0, m)\n",
    "        - Y: ground truths. Shape: (n_1, m)\n",
    "        - nb_iterations: number of iterations to perform gradient descent\n",
    "        - learning_rate: the learning rate (float number)\n",
    "\n",
    "    Returns:\n",
    "        - (params, cost) with:\n",
    "            - params: dictionary of the model parameters: {\"W\": W, \"b\": b}\n",
    "            - costs: list of the costs for each 100th iteration (iteration 1, iteration 100, etc.)\n",
    "    \"\"\"\n",
    "    \n",
    "    ### START CODE ###\n",
    "    ...\n",
    "    ### START CODE ###\n",
    "    \n",
    "    return params, costs"
   ]
  },
  {
   "cell_type": "code",
   "execution_count": 83,
   "metadata": {},
   "outputs": [],
   "source": [
    "nb_it = 2000\n",
    "learning_rate = 0.01\n",
    "params, costs = train(X_train, Y_train, nb_it, learning_rate)"
   ]
  },
  {
   "cell_type": "code",
   "execution_count": 84,
   "metadata": {},
   "outputs": [
    {
     "data": {
      "text/plain": [
       "[<matplotlib.lines.Line2D at 0x17b4f0a30>]"
      ]
     },
     "execution_count": 84,
     "metadata": {},
     "output_type": "execute_result"
    },
    {
     "data": {
      "image/png": "[encoded data removed]",
      "text/plain": [
       "<Figure size 640x480 with 1 Axes>"
      ]
     },
     "metadata": {},
     "output_type": "display_data"
    }
   ],
   "source": [
    "plt.plot(costs)"
   ]
  },
  {
   "cell_type": "markdown",
   "metadata": {},
   "source": [
    "## predict"
   ]
  },
  {
   "cell_type": "code",
   "execution_count": 85,
   "metadata": {},
   "outputs": [],
   "source": [
    "def predict(params, X, threshold = 0.5):\n",
    "    \"\"\"Predicts the output of the logistic regression.\n",
    "\n",
    "    Args:\n",
    "        - params: dictionary of the model parameters: {\"W\": W, \"b\": b}\n",
    "        - X: a matrix of observations. Shape: (n_0, ?)\n",
    "        - threshold: threshold to use for the prediction (default 0.5 means: if p >= 0.5, we predict 1, else 0)\n",
    "    \n",
    "    Returns:\n",
    "        - Yp: vector of predictions.\n",
    "    \"\"\"\n",
    "    ### START CODE ###\n",
    "    ...\n",
    "    ### START CODE ###\n",
    "\n",
    "    return Yp"
   ]
  },
  {
   "cell_type": "code",
   "execution_count": 86,
   "metadata": {},
   "outputs": [
    {
     "data": {
      "text/plain": [
       "array([[0, 0, 1, 0, 0, 0, 0, 1, 0, 0, 0, 1, 0, 1, 1, 0, 0, 0, 0, 1, 0, 0,\n",
       "        0, 0, 1, 1, 0, 1, 0, 1, 0, 0, 0, 0, 0, 0, 0, 0, 1, 0, 0, 1, 1, 0,\n",
       "        0, 0, 0, 1, 0, 0, 1, 0, 0, 0, 1, 0, 1, 1, 0, 1, 1, 1, 0, 0, 0, 0,\n",
       "        0, 0, 1, 0, 0, 1, 0, 0, 0, 1, 0, 0, 0, 0, 0, 0, 0, 1, 1, 0, 0, 0,\n",
       "        1, 0, 0, 0, 1, 1, 1, 0, 0, 1, 0, 0, 0, 0, 1, 0, 1, 0, 1, 1, 1, 1,\n",
       "        1, 1, 0, 0, 0, 0, 0, 1, 0, 0, 0, 1, 0, 0, 1, 0, 1, 0, 1, 1, 0, 0,\n",
       "        0, 1, 1, 1, 1, 1, 0, 0, 0, 0, 1, 0, 1, 1, 1, 0, 1, 1, 0, 0, 0, 1,\n",
       "        0, 0, 1, 0, 0, 0, 0, 0, 1, 0, 1, 0, 1, 0, 0, 1, 1, 1, 0, 0, 1, 1,\n",
       "        0, 1, 0, 1, 0, 0, 0, 0, 0, 1, 0, 0, 1, 0, 0, 0, 1, 0, 0, 0, 0, 1,\n",
       "        0, 0, 1, 0, 0, 0, 0, 0, 0, 0, 0]])"
      ]
     },
     "execution_count": 86,
     "metadata": {},
     "output_type": "execute_result"
    }
   ],
   "source": [
    "predict(params, X_train)"
   ]
  },
  {
   "cell_type": "markdown",
   "metadata": {},
   "source": [
    "## evaluate the performance"
   ]
  },
  {
   "cell_type": "code",
   "execution_count": 87,
   "metadata": {},
   "outputs": [],
   "source": [
    "def evaluate_performance(X_train, Y_train, X_test, Y_test, params, print_perf=True):\n",
    "    \"\"\"Evaluates the performance of the logistic regression.\n",
    "    \n",
    "    Args:\n",
    "        - X_train: matrix of observations for the training set\n",
    "        - Y_train: ground truths for the training set\n",
    "        - X_test: matrix of observations for the test set\n",
    "        - Y_test: ground truths for the test set\n",
    "        - params: the logistic regression parameters\n",
    "        - print_perf: boolean. If true, prints the performance on the train and test set, as well as the baseline performance.\n",
    "\n",
    "    Returns:\n",
    "        - (acc_train, acc_test) where:\n",
    "            - acc_train: accuracy on the train set\n",
    "            - acc_test: accuracy on the test set\n",
    "    \"\"\"\n",
    "    ### START CODE ###\n",
    "    ...\n",
    "    ### START CODE ###\n",
    "\n",
    "    \n",
    "    return acc_train, acc_test"
   ]
  },
  {
   "cell_type": "code",
   "execution_count": 88,
   "metadata": {},
   "outputs": [
    {
     "name": "stdout",
     "output_type": "stream",
     "text": [
      "train accuracy: 99.5%\n",
      "test accuracy: 70.0%\n",
      "\n",
      "baseline:\n",
      "test accuracy, model always predicts \"1\": 66.0%\n",
      "test accuracy, model always predicts \"0\": 34.0%\n"
     ]
    },
    {
     "data": {
      "text/plain": [
       "(0.9952153110047847, 0.7)"
      ]
     },
     "execution_count": 88,
     "metadata": {},
     "output_type": "execute_result"
    }
   ],
   "source": [
    "evaluate_performance(X_train, Y_train, X_test, Y_test, params)"
   ]
  },
  {
   "cell_type": "markdown",
   "metadata": {},
   "source": [
    "## predict on a custom image"
   ]
  },
  {
   "cell_type": "markdown",
   "metadata": {},
   "source": [
    "Now that you have trained the logistic regression, it's important to know how to load a custom image and predict on it.\n",
    "\n",
    "**Note**: you have nothing to code in this section. Just run the code, and understand it !"
   ]
  },
  {
   "cell_type": "code",
   "execution_count": null,
   "metadata": {},
   "outputs": [],
   "source": [
    "from PIL import Image\n",
    "\n",
    "#path_img = Path(\"../../data/catvnoncat/cat_11.jpeg\")\n",
    "path_img = Path(\"../../data/catvnoncat/Cat_March_2010-1.jpeg\")"
   ]
  },
  {
   "cell_type": "code",
   "execution_count": 24,
   "metadata": {},
   "outputs": [],
   "source": [
    "def load_and_resize_image(path_img, target_size = (64,64)):\n",
    "    img = Image.open(path_img)\n",
    "    img = img.resize(target_size)\n",
    "    X_img = np.array(img)\n",
    "    X_img = np.expand_dims(X_img, axis=0)\n",
    "    return X_img"
   ]
  },
  {
   "cell_type": "code",
   "execution_count": null,
   "metadata": {},
   "outputs": [],
   "source": [
    "X_img = load_and_resize_image(path_img)"
   ]
  },
  {
   "cell_type": "code",
   "execution_count": null,
   "metadata": {},
   "outputs": [],
   "source": [
    "## image originelle\n",
    "img = Image.open(path_img)\n",
    "img"
   ]
  },
  {
   "cell_type": "code",
   "execution_count": null,
   "metadata": {},
   "outputs": [],
   "source": [
    "## image après resizing\n",
    "plt.imshow(X_img[0])"
   ]
  },
  {
   "cell_type": "code",
   "execution_count": null,
   "metadata": {},
   "outputs": [],
   "source": [
    "X_img, _ = preprocess_data(X_img)"
   ]
  },
  {
   "cell_type": "code",
   "execution_count": null,
   "metadata": {},
   "outputs": [],
   "source": [
    "predict(params, X_img)"
   ]
  },
  {
   "cell_type": "markdown",
   "metadata": {},
   "source": [
    "# EXPERIMENTS"
   ]
  },
  {
   "cell_type": "markdown",
   "metadata": {},
   "source": [
    "Nothing to code in this section, you can run the code directly and experiment with different values of the hyperparameters"
   ]
  },
  {
   "cell_type": "markdown",
   "metadata": {},
   "source": [
    "## experiment with the learning rate"
   ]
  },
  {
   "cell_type": "code",
   "execution_count": 89,
   "metadata": {},
   "outputs": [],
   "source": [
    "def experiment_with_learning_rate(X_train, Y_train, X_test, Y_test, learning_rates, nb_iterations=2000):\n",
    "    \"\"\"Experiments training the logistic regression with different learning rates.\n",
    "    \n",
    "    Args:\n",
    "        - X_train: matrix of observations for the train set\n",
    "        - Y_train: ground truths for the train set\n",
    "        - X_test: matrix of observations for the test set\n",
    "        - Y_test: ground truths for the test set\n",
    "        - learning_rates: list of learning rates to test\n",
    "        - nb_iterations: number of iterations to train the logistic regression\n",
    "\n",
    "    Displays:\n",
    "        - the graph \"cost = f(nb iterations)\" for each learning rate\n",
    "        - the train and test set accuracy for each learning rate\n",
    "\n",
    "    Returns:\n",
    "        - None\n",
    "    \"\"\"\n",
    "    res_cost = dict()\n",
    "    res_acc = dict() \n",
    "\n",
    "    for lr in learning_rates:\n",
    "        params, costs = train(X_train, Y_train, nb_iterations, lr)\n",
    "        acc_train, acc_test = evaluate_performance(X_train, Y_train, X_test, Y_test, params, print_perf=False)\n",
    "\n",
    "        res_cost[lr] = costs\n",
    "        res_acc[lr] = (acc_train, acc_test)\n",
    "        \n",
    "        plt.plot(res_cost[lr], label= lr)\n",
    "    \n",
    "    ## display the evolution of the cost\n",
    "    plt.xlabel = \"iteration ( % 100)\"\n",
    "    plt.ylabel = \"cost\"\n",
    "    plt.legend(loc='upper center', shadow=True)\n",
    "    plt.show()\n",
    "\n",
    "    ## display the accuracy\n",
    "    for lr in learning_rates:\n",
    "        print(f'LR = {lr} / train accuracy = {res_acc[lr][0]:.1%}, test accuracy = {res_acc[lr][1]:.1%}')\n"
   ]
  },
  {
   "cell_type": "code",
   "execution_count": 90,
   "metadata": {},
   "outputs": [
    {
     "data": {
      "image/png": "[encoded data removed]",
      "text/plain": [
       "<Figure size 640x480 with 1 Axes>"
      ]
     },
     "metadata": {},
     "output_type": "display_data"
    },
    {
     "name": "stdout",
     "output_type": "stream",
     "text": [
      "LR = 0.0001 / train accuracy = 71.3%, test accuracy = 40.0%\n",
      "LR = 0.001 / train accuracy = 91.4%, test accuracy = 68.0%\n",
      "LR = 0.01 / train accuracy = 99.5%, test accuracy = 70.0%\n"
     ]
    }
   ],
   "source": [
    "learning_rates = [10**-4, 10**-3, 10**-2]\n",
    "experiment_with_learning_rate(X_train, Y_train, X_test, Y_test, learning_rates)"
   ]
  }
 ],
 "metadata": {
  "kernelspec": {
   "display_name": "Python 3.9.15 ('.venv': poetry)",
   "language": "python",
   "name": "python3"
  },
  "language_info": {
   "codemirror_mode": {
    "name": "ipython",
    "version": 3
   },
   "file_extension": ".py",
   "mimetype": "text/x-python",
   "name": "python",
   "nbconvert_exporter": "python",
   "pygments_lexer": "ipython3",
   "version": "3.9.15"
  },
  "orig_nbformat": 4,
  "vscode": {
   "interpreter": {
    "hash": "a19105ebd9057427e746efa9b30330b5b6764df49ff5bc57f6bbe079f3f763c4"
   }
  }
 },
 "nbformat": 4,
 "nbformat_minor": 2
}
