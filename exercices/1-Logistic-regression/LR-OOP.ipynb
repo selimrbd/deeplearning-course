{
 "cells": [
  {
   "cell_type": "code",
   "execution_count": 1,
   "metadata": {},
   "outputs": [
    {
     "ename": "SyntaxError",
     "evalue": "invalid syntax (698762314.py, line 20)",
     "output_type": "error",
     "traceback": [
      "\u001b[0;36m  Cell \u001b[0;32mIn [1], line 20\u001b[0;36m\u001b[0m\n\u001b[0;31m    def train()\u001b[0m\n\u001b[0m               ^\u001b[0m\n\u001b[0;31mSyntaxError\u001b[0m\u001b[0;31m:\u001b[0m invalid syntax\n"
     ]
    }
   ],
   "source": [
    "class LogisticRegression:\n",
    "    def __init__(self, n_0: int):\n",
    "        \"\"\"\n",
    "        Args:\n",
    "            - n_0: size of the input layer\n",
    "        \"\"\"\n",
    "        self.n_0 = n_0\n",
    "        self.params = None\n",
    "\n",
    "    def initialize_params(self):\n",
    "        W = np.zeros((1, self.n_x))\n",
    "        b = np.zeros(1)\n",
    "        params = {\n",
    "            \"W\": W,\n",
    "            \"b\": b\n",
    "        }\n",
    "        self.params = params\n",
    "\n",
    "    def train(self):\n",
    "        ..."
   ]
  },
  {
   "cell_type": "code",
   "execution_count": 3,
   "metadata": {},
   "outputs": [],
   "source": [
    "#LogisticRegression(n_0)"
   ]
  },
  {
   "cell_type": "code",
   "execution_count": null,
   "metadata": {},
   "outputs": [],
   "source": []
  }
 ],
 "metadata": {
  "kernelspec": {
   "display_name": "Python 3.9.15 ('.venv': poetry)",
   "language": "python",
   "name": "python3"
  },
  "language_info": {
   "codemirror_mode": {
    "name": "ipython",
    "version": 3
   },
   "file_extension": ".py",
   "mimetype": "text/x-python",
   "name": "python",
   "nbconvert_exporter": "python",
   "pygments_lexer": "ipython3",
   "version": "3.9.15"
  },
  "orig_nbformat": 4,
  "vscode": {
   "interpreter": {
    "hash": "a19105ebd9057427e746efa9b30330b5b6764df49ff5bc57f6bbe079f3f763c4"
   }
  }
 },
 "nbformat": 4,
 "nbformat_minor": 2
}
