{
 "cells": [
  {
   "cell_type": "code",
   "execution_count": null,
   "metadata": {},
   "outputs": [],
   "source": [
    "class LogisticRegression:\n",
    "\n",
    "    def __init__(n_x: int):\n",
    "        self.n_x = n_x\n",
    "        self.params = None\n",
    "\n",
    "    def initialize_params(self):\n",
    "        W = np.zeros((1, self.n_x))\n",
    "        b = np.zeros(1)\n",
    "        params = {\n",
    "            \"W\": W,\n",
    "            \"b\": b\n",
    "        }\n",
    "        self.params = params\n",
    "\n",
    "    def train()"
   ]
  }
 ],
 "metadata": {
  "kernelspec": {
   "display_name": "Python 3.9.15 ('.venv': poetry)",
   "language": "python",
   "name": "python3"
  },
  "language_info": {
   "name": "python",
   "version": "3.9.15"
  },
  "orig_nbformat": 4,
  "vscode": {
   "interpreter": {
    "hash": "a19105ebd9057427e746efa9b30330b5b6764df49ff5bc57f6bbe079f3f763c4"
   }
  }
 },
 "nbformat": 4,
 "nbformat_minor": 2
}
