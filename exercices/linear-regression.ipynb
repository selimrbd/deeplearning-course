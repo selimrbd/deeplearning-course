{
 "cells": [
  {
   "cell_type": "markdown",
   "metadata": {},
   "source": [
    "# régression linéaire"
   ]
  },
  {
   "cell_type": "markdown",
   "metadata": {},
   "source": [
    "Considérons un modèle simple permettant de prédire le **prix d'une maison**. Le prix ne dépend que du **nombre de pièces** dans la maison, de telle sorte que:\n",
    "\n",
    "**Prix maison** = W * (nombre de pièces) + B"
   ]
  },
  {
   "cell_type": "markdown",
   "metadata": {},
   "source": [
    "### Générer des données artificielles d'entrainement"
   ]
  },
  {
   "cell_type": "code",
   "execution_count": null,
   "metadata": {},
   "outputs": [],
   "source": [
    "import numpy as np\n",
    "\n",
    "X = np.array(range(50))\n",
    "wreal = 9\n",
    "breal = 2.1\n",
    "y = wreal*X + breal"
   ]
  },
  {
   "cell_type": "markdown",
   "metadata": {},
   "source": [
    "### tracer un schéma du réseau de neurone"
   ]
  },
  {
   "cell_type": "markdown",
   "metadata": {},
   "source": [
    "### Calculer les dérivées partielles de la fonction d'erreur"
   ]
  },
  {
   "cell_type": "markdown",
   "metadata": {},
   "source": [
    "### Implémenter une descente de gradient"
   ]
  },
  {
   "cell_type": "code",
   "execution_count": null,
   "metadata": {},
   "outputs": [],
   "source": [
    "w = 1\n",
    "b = 3.4\n",
    "lr = 0.001\n",
    "nb_steps = 30000\n",
    "\n",
    "d = dict()\n",
    "\n",
    "yp = w*X + b\n",
    "error = ((y - yp)**2).sum()/len(y)\n",
    "d['w'] = [w]\n",
    "d['b'] = [b]\n",
    "d['error'] = [error]\n",
    "\n",
    "print(f'initial weight values:\\nw = {w}\\nb = {b}')\n",
    "\n",
    "for i in range(nb_steps):\n",
    "    yp = w*X + b\n",
    "    error = ((y - yp)**2).sum()/len(y)\n",
    "    derr_w = (2*(-X)*(y-yp)).sum()/len(y)\n",
    "    derr_b = (2*(-1)*(y-yp)).sum()/len(y)\n",
    "    w = w - lr*derr_w\n",
    "    b = b - lr*derr_b\n",
    "    d['w'].append(w)\n",
    "    d['b'].append(b)\n",
    "    d['error'].append(error)\n",
    "    \n",
    "print(f'final weight values:\\nw = {w}\\nb = {b}')\n",
    "print(f'final error:\\n MSE = {error}\\nRMSE = {np.sqrt(error)}')"
   ]
  },
  {
   "cell_type": "markdown",
   "metadata": {},
   "source": [
    "## Annexe"
   ]
  },
  {
   "cell_type": "markdown",
   "metadata": {},
   "source": [
    "### visualisation de l'erreur"
   ]
  },
  {
   "cell_type": "code",
   "execution_count": null,
   "metadata": {},
   "outputs": [],
   "source": [
    "#max_error_conv = 1200+100_000_0000\n",
    "#\n",
    "#import seaborn as sns\n",
    "#\n",
    "#g = sns.lineplot(x=range(len(d['error'])), y=d['error'])\n",
    "#g.set(xlim=(0, len(d['error'])))\n",
    "#g.set_yscale('log')\n",
    "#g.set(ylim=(10**(-1), max_error_conv))"
   ]
  },
  {
   "cell_type": "markdown",
   "metadata": {},
   "source": [
    "### scaling des variables indépendantes"
   ]
  },
  {
   "cell_type": "code",
   "execution_count": null,
   "metadata": {},
   "outputs": [],
   "source": [
    "#def scale_with_minmax(X):\n",
    "#    X = (X-X.min())/(X.max()-X.min())\n",
    "#    return X\n",
    "#\n",
    "#import numpy as np\n",
    "#\n",
    "#X = np.array(range(50))\n",
    "#wreal = 10\n",
    "#breal = 43\n",
    "#\n",
    "#X = scale_with_minmax(X)\n",
    "#y = wreal*X + breal"
   ]
  }
 ],
 "metadata": {
  "kernelspec": {
   "display_name": "Python 3.9.12 ('dl-course')",
   "language": "python",
   "name": "python3"
  },
  "language_info": {
   "codemirror_mode": {
    "name": "ipython",
    "version": 3
   },
   "file_extension": ".py",
   "mimetype": "text/x-python",
   "name": "python",
   "nbconvert_exporter": "python",
   "pygments_lexer": "ipython3",
   "version": "3.9.12"
  },
  "vscode": {
   "interpreter": {
    "hash": "6038d4cb95946006ed8d8c2170a1217991ebf337ef4e412a4a3c29e9fb1e14a8"
   }
  }
 },
 "nbformat": 4,
 "nbformat_minor": 2
}
