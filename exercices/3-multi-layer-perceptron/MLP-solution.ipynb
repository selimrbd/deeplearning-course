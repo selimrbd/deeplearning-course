{
 "cells": [
  {
   "cell_type": "markdown",
   "metadata": {},
   "source": [
    "# TRAIN A MULTI LAYER PERCEPTRON \n",
    "(L-LAYER DENSE FEEDFORWARD NEURAL NETWORK)"
   ]
  },
  {
   "cell_type": "markdown",
   "metadata": {},
   "source": [
    "In this notebook, we will implement and train a multi layer perceptron, another term for \"L-layer dense feedforward neural network\".\n",
    "\n",
    "- L-layer: a neural network with (L-1) hidden layers and 1 output layer\n",
    "- dense: all neurons of layer L are connected to all neurons of layer (L-1)\n",
    "- feedforward: forward propagation goes from layer 1 to layer L, left to right (no recursion or connections between layers that aren't direct neighbours)\n",
    "\n",
    "---\n",
    "\n",
    "**IMPORTANT**: for all the neural networks we will implement, **we will go through the same 12 steps**:\n",
    "\n",
    "- load the dataset (**load_data**)\n",
    "\n",
    "- visualize it (**visualize_data**)\n",
    "- preprocess the dataset (**preprocess_data**)\n",
    "- define the network structure (**get_layer_sizes**)\n",
    "- initialize the parameters (**initialize_params**)\n",
    "- define the forward propagation step (**forward_propagate**)\n",
    "- calculate the cost (**compute_cost**)\n",
    "- define the backward propagation step (**backward_propagate**)\n",
    "- update the model parameters (**update_params**)\n",
    "- integrate all the steps in a training function (**train**)\n",
    "- predict on new elements (**predict**)\n",
    "- evaluate the performance of the model (**evaluate_performance**)\n",
    "\n",
    "---\n",
    "\n",
    "In the second part of the notebook, we will experiment with hyperparameters, in particular the number of iterations and the learning rate\n",
    "\n",
    "\n",
    "Ready ? Let's go !"
   ]
  },
  {
   "cell_type": "code",
   "execution_count": 1,
   "metadata": {},
   "outputs": [],
   "source": [
    "from pathlib import Path\n",
    "import joblib\n",
    "import random\n",
    "import matplotlib.pyplot as plt\n",
    "import numpy as np\n",
    "from PIL import Image\n",
    "import sys\n",
    "from typing import Union\n",
    "sys.path.append('..')\n",
    "from utils.planar_utils import load_planar_dataset\n",
    "from testCases_v4a import *\n",
    "\n",
    "np.random.seed(42)"
   ]
  },
  {
   "cell_type": "markdown",
   "metadata": {},
   "source": [
    "## helper functions"
   ]
  },
  {
   "cell_type": "code",
   "execution_count": 2,
   "metadata": {},
   "outputs": [],
   "source": [
    "def sigmoid(Z: Union[np.array, float]) -> Union[np.array, float]:\n",
    "    \"\"\"The sigmoid function.\n",
    "    Args:\n",
    "        - z: a numpy array or float\n",
    "    Returns:\n",
    "        - sigmoid(z)\n",
    "    \"\"\"\n",
    "    return 1 / (1 + np.exp(-Z))"
   ]
  },
  {
   "cell_type": "code",
   "execution_count": 3,
   "metadata": {},
   "outputs": [],
   "source": [
    "def relu(Z: Union[np.array, float]) -> Union[np.array, float]:\n",
    "    return np.maximum(Z, 0)"
   ]
  },
  {
   "cell_type": "markdown",
   "metadata": {},
   "source": [
    "## load data"
   ]
  },
  {
   "cell_type": "code",
   "execution_count": 4,
   "metadata": {},
   "outputs": [],
   "source": [
    "## CATVSNONCAT DATASET ##\n",
    "###########################\n",
    "def load_data():\n",
    "    \"\"\"\n",
    "    Load the train and test set.\n",
    "\n",
    "    Returns:\n",
    "        - (X_train, Y_train, X_test, Y_test)\n",
    "    \"\"\"\n",
    "\n",
    "    path = Path('../../data/catvnoncat/data.pkl')\n",
    "    with open(path, \"rb\") as f:\n",
    "        data = joblib.load(f)\n",
    "\n",
    "    X_train = data[\"train_set_x\"]\n",
    "    Y_train = data[\"train_set_y\"]\n",
    "    X_test = data[\"test_set_x\"]\n",
    "    Y_test = data[\"test_set_y\"]\n",
    "\n",
    "    return X_train, Y_train, X_test, Y_test\n",
    "############################\n",
    "############################"
   ]
  },
  {
   "cell_type": "code",
   "execution_count": 5,
   "metadata": {},
   "outputs": [],
   "source": [
    "# ## FLOWER DATASET ## \n",
    "# ####################\n",
    "\n",
    "# def load_data():\n",
    "#     \"\"\"\n",
    "#     Load the train and test set.\n",
    "\n",
    "#     Returns:\n",
    "#         - (X_train, Y_train, X_test, Y_test)\n",
    "#     \"\"\"\n",
    "\n",
    "#     X, Y = load_planar_dataset()\n",
    "\n",
    "#     ## train / test split\n",
    "#     m = X.shape[1]\n",
    "#     pct_test = 0.20\n",
    "#     m_test = int(m * pct_test)\n",
    "#     idx_test = np.random.choice(m, size=m_test, replace=False)\n",
    "#     idx_train = [i for i in range(m) if i not in idx_test]\n",
    "#     X_train = X[:, idx_train]\n",
    "#     Y_train = Y[:, idx_train]\n",
    "#     X_test = X[:, idx_test]\n",
    "#     Y_test = Y[:, idx_test]\n",
    "\n",
    "#     return X_train, Y_train, X_test, Y_test\n",
    "\n",
    "# ####################\n",
    "# ####################"
   ]
  },
  {
   "cell_type": "code",
   "execution_count": 6,
   "metadata": {},
   "outputs": [
    {
     "name": "stdout",
     "output_type": "stream",
     "text": [
      "X_train_orig shape: (209, 64, 64, 3)\n",
      "Y_train_orig shape: (209,)\n",
      "X_test_orig shape: (50, 64, 64, 3)\n",
      "Y_test_orig shape: (50,)\n"
     ]
    }
   ],
   "source": [
    "X_train_orig, Y_train_orig, X_test_orig, Y_test_orig = load_data()\n",
    "\n",
    "print(f\"X_train_orig shape: {X_train_orig.shape}\")\n",
    "print(f\"Y_train_orig shape: {Y_train_orig.shape}\")\n",
    "print(f\"X_test_orig shape: {X_test_orig.shape}\")\n",
    "print(f\"Y_test_orig shape: {Y_test_orig.shape}\")"
   ]
  },
  {
   "cell_type": "markdown",
   "metadata": {},
   "source": [
    "## visualize data"
   ]
  },
  {
   "cell_type": "code",
   "execution_count": 7,
   "metadata": {},
   "outputs": [],
   "source": [
    "## CATVSNONCAT DATASET ##\n",
    "#########################\n",
    "def visualize_data(X, Y):\n",
    "    \"\"\"\n",
    "    Displays a random image from the CATVNONCAT dataset with its label\n",
    "    \"\"\"\n",
    "    m = X.shape[0]\n",
    "    i = random.randint(0, m-1)\n",
    "    x = X[i]\n",
    "    y = Y[i]\n",
    "    labels = {0: \"non-cat\", 1: \"cat\"}\n",
    "    print(f'label: {labels[y]}')\n",
    "    plt.imshow(x)\n",
    "####################\n",
    "####################"
   ]
  },
  {
   "cell_type": "code",
   "execution_count": 8,
   "metadata": {},
   "outputs": [],
   "source": [
    "# ## FLOWER DATASET ##\n",
    "# ####################\n",
    "# def visualize_data(X, Y):\n",
    "#     \"\"\"\n",
    "#     Renders the flower dataset as a matplotlib figure.\n",
    "#     \"\"\"\n",
    "#     plt.scatter(X[0, :], X[1, :], c=Y, s=40, cmap=plt.cm.cividis)\n",
    "# ####################\n",
    "# ####################"
   ]
  },
  {
   "cell_type": "code",
   "execution_count": 9,
   "metadata": {},
   "outputs": [
    {
     "name": "stdout",
     "output_type": "stream",
     "text": [
      "label: non-cat\n"
     ]
    },
    {
     "data": {
      "image/png": "[encoded data removed]",
      "text/plain": [
       "<Figure size 640x480 with 1 Axes>"
      ]
     },
     "metadata": {},
     "output_type": "display_data"
    }
   ],
   "source": [
    "visualize_data(X_train_orig, Y_train_orig)"
   ]
  },
  {
   "cell_type": "markdown",
   "metadata": {},
   "source": [
    "## preprocess data"
   ]
  },
  {
   "cell_type": "code",
   "execution_count": 10,
   "metadata": {},
   "outputs": [],
   "source": [
    "## CATVSNONCAT DATASET ##\n",
    "#########################\n",
    "def preprocess_data(X, Y = None):\n",
    "    \"\"\"Preprocess input data, in order to be fed as the input of the neural network.\n",
    "    \n",
    "    Operations:\n",
    "        - Reshaping of the arrays to fit the Neural Network Input\n",
    "        - Normalization\n",
    "    Returns:\n",
    "        (X_pp, Y_pp)\n",
    "        \n",
    "        using the following notations:\n",
    "        - n_x: number of features in the input of the neural network\n",
    "        - m: number of observations \n",
    "        X_pp: normalized matrix of size (n_x, m)\n",
    "        Y_pp: normalized array of size (1, m)\n",
    "    \"\"\"\n",
    "    m = X.shape[0]\n",
    "\n",
    "    ## Reshape the arrays\n",
    "    ### START CODE ###\n",
    "    X = X.reshape(m, -1).T\n",
    "    if Y is not None:\n",
    "        Y = Y.reshape(m, 1).T\n",
    "    ### END CODE ###\n",
    "\n",
    "    ## normalization\n",
    "    ### START CODE ###\n",
    "    X = X / 255.\n",
    "    ### END CODE ###\n",
    "    return X,Y\n",
    "\n",
    "####################\n",
    "####################"
   ]
  },
  {
   "cell_type": "code",
   "execution_count": 11,
   "metadata": {},
   "outputs": [],
   "source": [
    "# ## FLOWER DATASET ## \n",
    "# ####################\n",
    "# def preprocess_data(X, Y = None):\n",
    "#     \"\"\"Preprocess input data, in order to be fed as the input of the neural network.\n",
    "#     \"\"\"\n",
    "#     # nothing to do, the data is already in the right shape and scale !\n",
    "#     return X, Y\n",
    "# ###################\n",
    "# ###################"
   ]
  },
  {
   "cell_type": "code",
   "execution_count": 12,
   "metadata": {},
   "outputs": [
    {
     "name": "stdout",
     "output_type": "stream",
     "text": [
      "X_train shape: (12288, 209)\n",
      "Y_train shape: (1, 209)\n",
      "X_test shape: (12288, 50)\n",
      "Y_test shape: (1, 50)\n"
     ]
    }
   ],
   "source": [
    "X_train, Y_train = preprocess_data(X_train_orig, Y_train_orig)\n",
    "X_test, Y_test = preprocess_data(X_test_orig, Y_test_orig)\n",
    "\n",
    "print(f\"X_train shape: {X_train.shape}\")\n",
    "print(f\"Y_train shape: {Y_train.shape}\")\n",
    "print(f\"X_test shape: {X_test.shape}\")\n",
    "print(f\"Y_test shape: {Y_test.shape}\")"
   ]
  },
  {
   "cell_type": "markdown",
   "metadata": {},
   "source": [
    "## define the network structure"
   ]
  },
  {
   "cell_type": "markdown",
   "metadata": {},
   "source": [
    "We want to build a logistic regression, which can be seen as the following 1-layer neural network:\n",
    "\n",
    "![SCHEMA OF L-LAYER PERCEPTRON]()"
   ]
  },
  {
   "cell_type": "code",
   "execution_count": 13,
   "metadata": {},
   "outputs": [],
   "source": [
    "def get_layer_sizes(X, nb_hidden_layers, nb_hidden_units):\n",
    "    \"\"\"\n",
    "    Get the number of layers as well as the size of each neural network layer.\n",
    "    Here each hidden \n",
    "    The last layer has 1 unit, as we are performing binary classification.\n",
    "\n",
    "    Returns:\n",
    "        - n: list. Number of units per layer. n[0]: number of input features, n[1]: number of hidden units for layer 1, etc.\n",
    "    \"\"\"\n",
    "    ### START CODE ###\n",
    "    n = list()\n",
    "    n_0 = X.shape[0]\n",
    "    n.append(n_0)\n",
    "    for i in range(nb_hidden_layers):\n",
    "        n.append(nb_hidden_units)\n",
    "\n",
    "    # last layer: 1 hidden unit\n",
    "    n.append(1)\n",
    "    \n",
    "    ### END CODE ###\n",
    "    return n\n",
    "\n"
   ]
  },
  {
   "cell_type": "code",
   "execution_count": 14,
   "metadata": {},
   "outputs": [
    {
     "name": "stdout",
     "output_type": "stream",
     "text": [
      "[12288, 3, 1]\n"
     ]
    }
   ],
   "source": [
    "n = get_layer_sizes(X_train, 1, 3)\n",
    "print(n)\n"
   ]
  },
  {
   "cell_type": "markdown",
   "metadata": {},
   "source": [
    "## initialize the parameters"
   ]
  },
  {
   "cell_type": "code",
   "execution_count": 58,
   "metadata": {},
   "outputs": [],
   "source": [
    "def initialize_params(n: list[int]):\n",
    "    \"\"\"Initialize the MLP parameters.\n",
    "    \n",
    "    Args:\n",
    "        - n: number of hidden units per layer\n",
    "    \n",
    "    Returns:\n",
    "        - params: a dictionary of the model parameters: {\"W\": W, \"b\": b}\n",
    "    \"\"\"\n",
    "    params = dict()\n",
    "\n",
    "    for i in range(1, len(n)):\n",
    "        params[f\"W{i}\"] = np.random.randn(n[i], n[i-1]) * 0.001\n",
    "        params[f\"b{i}\"] = np.zeros((n[i], 1))\n",
    "    \n",
    "    return params"
   ]
  },
  {
   "cell_type": "code",
   "execution_count": 59,
   "metadata": {},
   "outputs": [],
   "source": [
    "params = initialize_params(n)"
   ]
  },
  {
   "cell_type": "code",
   "execution_count": 60,
   "metadata": {},
   "outputs": [
    {
     "data": {
      "text/plain": [
       "array([[ 4.18443700e-05, -4.77750452e-04, -1.30053305e-03, ...,\n",
       "         7.41264734e-05,  3.39541466e-04,  3.30316239e-04],\n",
       "       [-1.69164124e-03, -1.10679804e-04,  3.67636444e-04, ...,\n",
       "        -7.59687809e-05, -3.68200239e-04,  2.54110328e-03],\n",
       "       [-7.94663400e-04, -2.07053419e-04, -6.21477214e-04, ...,\n",
       "         9.64767661e-04, -7.61089843e-04,  4.30274045e-04]])"
      ]
     },
     "execution_count": 60,
     "metadata": {},
     "output_type": "execute_result"
    }
   ],
   "source": [
    "params['W1']"
   ]
  },
  {
   "cell_type": "markdown",
   "metadata": {},
   "source": [
    "## forward propagate"
   ]
  },
  {
   "cell_type": "code",
   "execution_count": 61,
   "metadata": {},
   "outputs": [],
   "source": [
    "def forward_propagate_1layer(A_prev, W, b, activation):\n",
    "    \"\"\"Forward propagation for 1 layer\n",
    "    \"\"\"\n",
    "    Z = np.dot(W, A_prev) + b\n",
    "    if activation == \"sigmoid\":\n",
    "        A = sigmoid(Z)\n",
    "    elif activation == \"relu\":\n",
    "        A = relu(Z)\n",
    "    cache = (A_prev, W, b, Z)\n",
    "    return A, cache\n"
   ]
  },
  {
   "cell_type": "code",
   "execution_count": 62,
   "metadata": {},
   "outputs": [
    {
     "name": "stdout",
     "output_type": "stream",
     "text": [
      "With sigmoid: A = [[0.96890023 0.11013289]]\n",
      "With ReLU: A = [[3.43896131 0.        ]]\n"
     ]
    }
   ],
   "source": [
    "## TESTS\n",
    "A_prev_t, W_t, b_t = linear_activation_forward_test_case()\n",
    "A_t, cache_t = forward_propagate_1layer(A_prev_t, W_t, b_t, \"sigmoid\")\n",
    "print(\"With sigmoid: A = \" + str(A_t))\n",
    "A_t, cache_t = forward_propagate_1layer(A_prev_t, W_t, b_t, \"relu\")\n",
    "print(\"With ReLU: A = \" + str(A_t))"
   ]
  },
  {
   "cell_type": "markdown",
   "metadata": {},
   "source": [
    "**Expected output**:\n",
    "       \n",
    "<table style=\"width:35%\">\n",
    "  <tr>\n",
    "    <td> **With sigmoid: A ** </td>\n",
    "    <td > [[ 0.96890023  0.11013289]]</td> \n",
    "  </tr>\n",
    "  <tr>\n",
    "    <td> **With ReLU: A ** </td>\n",
    "    <td > [[ 3.43896131  0.        ]]</td> \n",
    "  </tr>\n",
    "</table>"
   ]
  },
  {
   "cell_type": "code",
   "execution_count": 63,
   "metadata": {},
   "outputs": [],
   "source": [
    "def forward_propagate(params, X):\n",
    "    \"\"\"Perform the forward propagation operation.\n",
    "    \n",
    "    Args:\n",
    "        - params: a dictionary of the model parameters: {\"W\": W, \"b\": b}\n",
    "        - X: a dataset of observation (shape: n_0, m)\n",
    "\n",
    "    Returns:\n",
    "        - Al: the matrix of activations of the output layer\n",
    "    \"\"\"\n",
    "    ### START CODE ###\n",
    "    A_prev = X\n",
    "    caches = list()\n",
    "    l = len(params) // 2\n",
    "\n",
    "    for k in range(1, l):\n",
    "        W = params[f\"W{k}\"]\n",
    "        b = params[f\"b{k}\"]\n",
    "        A, cache = forward_propagate_1layer(A_prev, W, b, activation=\"relu\")\n",
    "        caches.append(cache)\n",
    "        A_prev = A\n",
    "\n",
    "    Wl = params[f\"W{l}\"]\n",
    "    bl = params[f\"b{l}\"]\n",
    "    Al, cache = forward_propagate_1layer(A_prev, Wl, bl, activation=\"sigmoid\")\n",
    "    caches.append(cache)\n",
    "    ### END CODE ###\n",
    "\n",
    "    return Al, caches"
   ]
  },
  {
   "cell_type": "code",
   "execution_count": 64,
   "metadata": {},
   "outputs": [],
   "source": [
    "Al, caches = forward_propagate(params, X_train)"
   ]
  },
  {
   "cell_type": "code",
   "execution_count": 65,
   "metadata": {},
   "outputs": [
    {
     "name": "stdout",
     "output_type": "stream",
     "text": [
      "Al = [[0.03921668 0.70498921 0.19734387 0.04728177]]\n",
      "Length of caches list = 3\n"
     ]
    }
   ],
   "source": [
    "## TESTS\n",
    "X_t, params_t = L_model_forward_test_case_2hidden()\n",
    "Al_t, caches_t = forward_propagate(params_t, X_t)\n",
    "print(\"Al = \" + str(Al_t))\n",
    "print(\"Length of caches list = \" + str(len(caches_t)))"
   ]
  },
  {
   "cell_type": "markdown",
   "metadata": {},
   "source": [
    "<table style=\"width:50%\">\n",
    "  <tr>\n",
    "    <td> **AL** </td>\n",
    "    <td > [[ 0.03921668  0.70498921  0.19734387  0.04728177]]</td> \n",
    "  </tr>\n",
    "  <tr>\n",
    "    <td> **Length of caches list ** </td>\n",
    "    <td > 3 </td> \n",
    "  </tr>\n",
    "</table>"
   ]
  },
  {
   "cell_type": "markdown",
   "metadata": {},
   "source": [
    "## compute the cost"
   ]
  },
  {
   "cell_type": "code",
   "execution_count": 66,
   "metadata": {},
   "outputs": [],
   "source": [
    "def compute_cost(A, Y):\n",
    "    \"\"\"Compute the cost of the output layer activation.\n",
    "    \n",
    "    Args:\n",
    "        - A: the matrix of activations of the output layer. Shape: (n_1,m)\n",
    "        - Y: ground truths. Shape: (n_1,m)\n",
    "    \"\"\"\n",
    "    ### START CODE ###\n",
    "    m = A.shape[1]\n",
    "    cost = -(1/m)*np.sum(Y*np.log(A) + (1-Y)*np.log(1-A))\n",
    "    ### END CODE ###\n",
    "    \n",
    "    return cost"
   ]
  },
  {
   "cell_type": "code",
   "execution_count": 67,
   "metadata": {},
   "outputs": [
    {
     "data": {
      "text/plain": [
       "0.6931471940851603"
      ]
     },
     "execution_count": 67,
     "metadata": {},
     "output_type": "execute_result"
    }
   ],
   "source": [
    "compute_cost(Al, Y_train)"
   ]
  },
  {
   "cell_type": "code",
   "execution_count": 68,
   "metadata": {},
   "outputs": [
    {
     "name": "stdout",
     "output_type": "stream",
     "text": [
      "cost = 0.2797765635793422\n"
     ]
    }
   ],
   "source": [
    "## TESTS\n",
    "Y_t, Al_test = compute_cost_test_case()\n",
    "print(\"cost = \" + str(compute_cost(Al_test, Y_t)))"
   ]
  },
  {
   "cell_type": "markdown",
   "metadata": {},
   "source": [
    "**Expected Output**:\n",
    "<table>\n",
    "    <tr>\n",
    "    <td>**cost** </td>\n",
    "    <td> 0.2797765635793422</td> \n",
    "    </tr>\n",
    "</table>"
   ]
  },
  {
   "cell_type": "markdown",
   "metadata": {},
   "source": [
    "## backward propagate"
   ]
  },
  {
   "cell_type": "code",
   "execution_count": 69,
   "metadata": {},
   "outputs": [],
   "source": [
    "def backward_propagate_1layer(dA, cache, activation):\n",
    "\n",
    "    A_prev = cache[0]\n",
    "    W = cache[1]\n",
    "    Z = cache[3]\n",
    "    \n",
    "    if activation == \"relu\":\n",
    "        dZ = np.array(dA, copy=True)\n",
    "        dZ[Z <= 0] = 0\n",
    "    if activation == \"sigmoid\":\n",
    "        dZ = dA * sigmoid(Z) * (1 - sigmoid(Z))\n",
    "    \n",
    "    m = dA.shape[1]\n",
    "    dW = (1/m) * np.dot(dZ, A_prev.T)\n",
    "    db = (1/m) * np.sum(dZ, axis=1, keepdims=True)\n",
    "    dA_prev = np.dot(W.T, dZ)\n",
    "\n",
    "    return dA_prev, dW, db"
   ]
  },
  {
   "cell_type": "code",
   "execution_count": 70,
   "metadata": {},
   "outputs": [
    {
     "name": "stdout",
     "output_type": "stream",
     "text": [
      "dAl: [[-0.41675785 -0.05626683]]\n",
      "Z: [[ 0.04153939 -1.11792545]]\n",
      "sigmoid:\n",
      "dA_prev = [[ 0.11017994  0.01105339]\n",
      " [ 0.09466817  0.00949723]\n",
      " [-0.05743092 -0.00576154]]\n",
      "dW = [[ 0.10266786  0.09778551 -0.01968084]]\n",
      "db = [[-0.05729622]]\n",
      "\n",
      "relu:\n",
      "dA_prev = [[ 0.44090989  0.        ]\n",
      " [ 0.37883606  0.        ]\n",
      " [-0.2298228   0.        ]]\n",
      "dW = [[ 0.44513824  0.37371418 -0.10478989]]\n",
      "db = [[-0.20837892]]\n"
     ]
    }
   ],
   "source": [
    "## TESTS\n",
    "dAl_t, la_cache_t = linear_activation_backward_test_case()\n",
    "cache_t = (la_cache_t[0][0], la_cache_t[0][1], la_cache_t[0][2], la_cache_t[1])\n",
    "\n",
    "print(f\"dAl: {dAl_t}\")\n",
    "print(f\"Z: {cache_t[-1]}\")\n",
    "dA_prev_t, dW_t, db_t = backward_propagate_1layer(dAl_t, cache_t, activation = \"sigmoid\")\n",
    "print (\"sigmoid:\")\n",
    "print (\"dA_prev = \"+ str(dA_prev_t))\n",
    "print (\"dW = \" + str(dW_t))\n",
    "print (\"db = \" + str(db_t) + \"\\n\")\n",
    "\n",
    "dA_prev_t, dW_t, db_t = backward_propagate_1layer(dAl_t, cache_t, activation = \"relu\")\n",
    "print (\"relu:\")\n",
    "print (\"dA_prev = \"+ str(dA_prev_t))\n",
    "print (\"dW = \" + str(dW_t))\n",
    "print (\"db = \" + str(db_t))"
   ]
  },
  {
   "cell_type": "markdown",
   "metadata": {},
   "source": [
    "**Expected output with sigmoid:**\n",
    "\n",
    "<table style=\"width:100%\">\n",
    "  <tr>\n",
    "    <td>\n",
    "        dA_prev\n",
    "     </td> \n",
    "     <td>\n",
    "         [[ 0.11017994  0.01105339]\n",
    "         [ 0.09466817  0.00949723]\n",
    "         [-0.05743092 -0.00576154]]\n",
    "      </td> \n",
    "  </tr> \n",
    "    <tr>\n",
    "        <td>\n",
    "            dW\n",
    "        </td> \n",
    "        <td>\n",
    "            [[ 0.10266786  0.09778551 -0.01968084]]\n",
    "        </td> \n",
    "  </tr> \n",
    "    <tr>\n",
    "        <td>\n",
    "        db\n",
    "       </td> \n",
    "       <td >\n",
    "           [[-0.05729622]]\n",
    "        </td> \n",
    "  </tr> \n",
    "</table>"
   ]
  },
  {
   "cell_type": "markdown",
   "metadata": {},
   "source": [
    "**Expected output with reLU:**\n",
    "\n",
    "<table style=\"width:100%\">\n",
    "  <tr>\n",
    "    <td>\n",
    "        dA_prev\n",
    "     </td> \n",
    "     <td>\n",
    "         [[ 0.44090989  0.        ]\n",
    "          [ 0.37883606  0.        ]\n",
    "          [-0.2298228   0.        ]]\n",
    "      </td> \n",
    "  </tr> \n",
    "    <tr>\n",
    "        <td>\n",
    "            dW\n",
    "        </td> \n",
    "        <td>\n",
    "            [[ 0.44513824  0.37371418 -0.10478989]]\n",
    "        </td> \n",
    "  </tr> \n",
    "    <tr>\n",
    "        <td>\n",
    "        db\n",
    "       </td> \n",
    "       <td >\n",
    "           [[-0.20837892]]\n",
    "        </td> \n",
    "  </tr> \n",
    "</table>"
   ]
  },
  {
   "cell_type": "code",
   "execution_count": 71,
   "metadata": {},
   "outputs": [],
   "source": [
    "n = [X_train.shape[0], 5, 3, 1]"
   ]
  },
  {
   "cell_type": "code",
   "execution_count": 72,
   "metadata": {},
   "outputs": [],
   "source": [
    "def backward_propagate(Al, Y, caches):\n",
    "    \"\"\"The Backward propagation operation.\n",
    "\n",
    "    \"\"\"\n",
    "    ### START CODE ###\n",
    "    grads = dict()\n",
    "    l = len(caches)\n",
    "    m = Al.shape[1]\n",
    "    dAl = - (np.divide(Y, Al) - np.divide(1-Y, 1-Al))\n",
    "\n",
    "\n",
    "    ## backward propagation on the output layer\n",
    "    current_cache = caches[l-1] # Last Layer\n",
    "    grads[\"dA\" + str(l-1)], grads[\"dW\" + str(l)], grads[\"db\" + str(l)] = backward_propagate_1layer(dAl, current_cache, \"sigmoid\")\n",
    "    \n",
    "    ## backward propagation on the hidden layers\n",
    "    for k in reversed(range(l-1)):\n",
    "        current_cache = caches[k]\n",
    "        dA_prev, dW, db = backward_propagate_1layer(grads[f\"dA{k+1}\"], current_cache, \"relu\")\n",
    "        grads[f\"dA{k}\"] = dA_prev\n",
    "        grads[f\"dW{k+1}\"] = dW\n",
    "        grads[f\"db{k+1}\"] = db\n",
    "    \n",
    "    ### END CODE ###\n",
    "    return grads"
   ]
  },
  {
   "cell_type": "code",
   "execution_count": 73,
   "metadata": {},
   "outputs": [],
   "source": [
    "grads = backward_propagate(Al, Y_train, caches)"
   ]
  },
  {
   "cell_type": "code",
   "execution_count": 74,
   "metadata": {},
   "outputs": [
    {
     "name": "stdout",
     "output_type": "stream",
     "text": [
      "dW1 = [[0.41010002 0.07807203 0.13798444 0.10502167]\n",
      " [0.         0.         0.         0.        ]\n",
      " [0.05283652 0.01005865 0.01777766 0.0135308 ]]\n",
      "db1 = [[-0.22007063]\n",
      " [ 0.        ]\n",
      " [-0.02835349]]\n",
      "dA1 = [[ 0.12913162 -0.44014127]\n",
      " [-0.14175655  0.48317296]\n",
      " [ 0.01663708 -0.05670698]]\n"
     ]
    }
   ],
   "source": [
    "## TESTS\n",
    "Al_t, Y_assess_t, caches_t = L_model_backward_test_case()\n",
    "new_caches_t = ((caches_t[0][0][0], caches_t[0][0][1], caches_t[0][0][2], caches_t[0][1]),\n",
    "                (caches_t[1][0][0], caches_t[1][0][1], caches_t[1][0][2], caches_t[1][1]))\n",
    "grads_t = backward_propagate(Al_t, Y_assess_t, new_caches_t)\n",
    "print_grads(grads_t)"
   ]
  },
  {
   "cell_type": "markdown",
   "metadata": {},
   "source": [
    "**Expected Output**\n",
    "\n",
    "<table style=\"width:60%\">\n",
    "  \n",
    "  <tr>\n",
    "    <td > dW1 </td> \n",
    "          <td > [[ 0.41010002  0.07807203  0.13798444  0.10502167]\n",
    " [ 0.          0.          0.          0.        ]\n",
    " [ 0.05283652  0.01005865  0.01777766  0.0135308 ]] </td> \n",
    "  </tr> \n",
    "  \n",
    "  <tr>\n",
    "    <td > db1 </td> \n",
    "          <td > [[-0.22007063]\n",
    " [ 0.        ]\n",
    " [-0.02835349]] </td> \n",
    "  </tr> \n",
    "  \n",
    "  <tr>\n",
    "  <td > dA1 </td> \n",
    "           <td > [[ 0.12913162 -0.44014127]\n",
    " [-0.14175655  0.48317296]\n",
    " [ 0.01663708 -0.05670698]] </td> \n",
    "\n",
    "  </tr> \n",
    "</table>\n",
    "\n"
   ]
  },
  {
   "cell_type": "markdown",
   "metadata": {},
   "source": [
    "## update the parameters"
   ]
  },
  {
   "cell_type": "code",
   "execution_count": 75,
   "metadata": {},
   "outputs": [],
   "source": [
    "def update_params(params, grads, learning_rate):\n",
    "    \"\"\"Update weights using gradient descent.\n",
    "    \n",
    "    Args:\n",
    "        - params: a dictionary of the model parameters: {\"W\": W, \"b\": b}\n",
    "        - grads: a dictionary containing the gradients for all model parameters. {\"dW\": dW, \"db\": db}\n",
    "        - learning_rate: the learning rate (float number)\n",
    "    Returns:\n",
    "        - params: a dictionary of the model parameters updated: {\"W\": W, \"b\": b}\n",
    "    \"\"\"\n",
    "    ### START CODE ###\n",
    "    l = len(params) // 2\n",
    "\n",
    "    for k in range(l):\n",
    "        params[f\"W{k+1}\"] = params[f\"W{k+1}\"] - learning_rate * grads[f\"dW{k+1}\"]\n",
    "        params[f\"b{k+1}\"] = params[f\"b{k+1}\"] - learning_rate * grads[f\"db{k+1}\"]\n",
    "    ### START CODE ###\n",
    "    \n",
    "    return params"
   ]
  },
  {
   "cell_type": "code",
   "execution_count": 76,
   "metadata": {},
   "outputs": [],
   "source": [
    "params = update_params(params, grads, 0.01)"
   ]
  },
  {
   "cell_type": "code",
   "execution_count": 77,
   "metadata": {},
   "outputs": [
    {
     "name": "stdout",
     "output_type": "stream",
     "text": [
      "W1 = [[-0.59562069 -0.09991781 -2.14584584  1.82662008]\n",
      " [-1.76569676 -0.80627147  0.51115557 -1.18258802]\n",
      " [-1.0535704  -0.86128581  0.68284052  2.20374577]]\n",
      "b1 = [[-0.04659241]\n",
      " [-1.28888275]\n",
      " [ 0.53405496]]\n",
      "W2 = [[-0.55569196  0.0354055   1.32964895]]\n",
      "b2 = [[-0.84610769]]\n"
     ]
    }
   ],
   "source": [
    "## TESTS\n",
    "parameters_t, grads_t = update_parameters_test_case()\n",
    "parameters_t = update_params(parameters_t, grads_t, 0.1)\n",
    "\n",
    "print (\"W1 = \"+ str(parameters_t[\"W1\"]))\n",
    "print (\"b1 = \"+ str(parameters_t[\"b1\"]))\n",
    "print (\"W2 = \"+ str(parameters_t[\"W2\"]))\n",
    "print (\"b2 = \"+ str(parameters_t[\"b2\"]))"
   ]
  },
  {
   "cell_type": "markdown",
   "metadata": {},
   "source": [
    "**Expected Output**:\n",
    "\n",
    "<table style=\"width:100%\"> \n",
    "    <tr>\n",
    "      <td >\n",
    "        W1\n",
    "      </td> \n",
    "      <td > \n",
    "        [[-0.59562069 -0.09991781 -2.14584584  1.82662008]\n",
    "        [-1.76569676 -0.80627147  0.51115557 -1.18258802]\n",
    "        [-1.0535704  -0.86128581  0.68284052  2.20374577]] \n",
    "      </td> \n",
    "    </tr> \n",
    "    <tr>\n",
    "      <td >\n",
    "        b1\n",
    "      </td> \n",
    "      <td >\n",
    "        [[-0.04659241]\n",
    "        [-1.28888275]\n",
    "        [ 0.53405496]]\n",
    "      </td> \n",
    "    </tr> \n",
    "    <tr>\n",
    "      <td >\n",
    "        W2\n",
    "      </td> \n",
    "      <td >\n",
    "        [[-0.55569196  0.0354055   1.32964895]]\n",
    "      </td> \n",
    "    </tr> \n",
    "    <tr>\n",
    "      <td >\n",
    "        b2\n",
    "      </td> \n",
    "      <td > \n",
    "        [[-0.84610769]]\n",
    "      </td> \n",
    "    </tr> \n",
    "</table>\n"
   ]
  },
  {
   "cell_type": "markdown",
   "metadata": {},
   "source": [
    "## train"
   ]
  },
  {
   "cell_type": "code",
   "execution_count": 88,
   "metadata": {},
   "outputs": [],
   "source": [
    "def train(X, Y, n: list[int], nb_iterations: int, learning_rate: float):\n",
    "    \"\"\"Combines all the operations necessary to train the logistic regression.\n",
    "    \n",
    "    Args:\n",
    "        - X: the matrix of observations. Shape: (n_0, m)\n",
    "        - Y: ground truths. Shape: (n_1, m)\n",
    "        - n: number of units per layer.\n",
    "            --> l = len(n) - 1 (we don't count the input layer)\n",
    "            --> n[i] = number of units in layer i\n",
    "        - nb_iterations: number of iterations to perform gradient descent\n",
    "        - learning_rate: the learning rate (float number)\n",
    "\n",
    "    Returns:\n",
    "        - (params, cost) with:\n",
    "            - params: dictionary of the model parameters: {\"W\": W, \"b\": b}\n",
    "            - costs: list of the costs for each 100th iteration (iteration 1, iteration 100, etc.)\n",
    "    \"\"\"\n",
    "    \n",
    "    ### START CODE ###\n",
    "    params = initialize_params(n)\n",
    "    costs = list()\n",
    "    grads_list = list()\n",
    "    params_list = list()\n",
    "    for i in range(nb_iterations):\n",
    "        Al, caches = forward_propagate(params, X)\n",
    "        cost = compute_cost(Al, Y)\n",
    "        grads = backward_propagate(Al, Y, caches)\n",
    "        params = update_params(params, grads, learning_rate)\n",
    "\n",
    "        if (i % 100) == 0:# we store the cost each 100 iterations\n",
    "            costs.append(cost)\n",
    "            grads_list.append(grads)\n",
    "            params_list.append(params)\n",
    "    ### START CODE ###\n",
    "    \n",
    "    return params, costs, grads_list, params_list"
   ]
  },
  {
   "cell_type": "code",
   "execution_count": 105,
   "metadata": {},
   "outputs": [],
   "source": [
    "#n = get_layer_sizes(X_train, nb_hidden_layers=1, nb_hidden_units=7)\n",
    "#n = [X_train.shape[0], 5, 3, 1]\n",
    "n = [X_train.shape[0], 3, 1]\n",
    "#n = [X_train.shape[0], 3, 2, 1]\n",
    "#nb_it = 4000\n",
    "nb_it = 2500\n",
    "#learning_rate = 0.01\n",
    "learning_rate = 0.0075\n",
    "params, costs, grads_list, params_list = train(X_train, Y_train, n, nb_it, learning_rate)"
   ]
  },
  {
   "cell_type": "code",
   "execution_count": 112,
   "metadata": {},
   "outputs": [
    {
     "data": {
      "text/plain": [
       "{'W1': array([[-1.40195444e-02,  1.85374482e-02, -1.65843303e-03, ...,\n",
       "         -8.65861260e-04,  1.11761623e-02, -3.04296126e-02],\n",
       "        [ 5.11034311e-04,  1.61419866e-03, -2.50182659e-04, ...,\n",
       "         -1.62703176e-03, -8.76738363e-04,  1.31224276e-05],\n",
       "        [-5.28854293e-04, -4.77092157e-04, -1.33681966e-03, ...,\n",
       "          8.02601168e-04, -2.09813917e-04, -9.21203453e-04]]),\n",
       " 'b1': array([[6.17968139e-02],\n",
       "        [2.66363305e-04],\n",
       "        [9.84289341e-06]]),\n",
       " 'W2': array([[-1.51961875e+00, -4.57515424e-02, -4.79423100e-04]]),\n",
       " 'b2': array([[0.88527902]])}"
      ]
     },
     "execution_count": 112,
     "metadata": {},
     "output_type": "execute_result"
    }
   ],
   "source": [
    "params"
   ]
  },
  {
   "cell_type": "code",
   "execution_count": 106,
   "metadata": {},
   "outputs": [
    {
     "name": "stdout",
     "output_type": "stream",
     "text": [
      "[12288, 3, 1]\n"
     ]
    },
    {
     "data": {
      "text/plain": [
       "[<matplotlib.lines.Line2D at 0x14374a850>]"
      ]
     },
     "execution_count": 106,
     "metadata": {},
     "output_type": "execute_result"
    },
    {
     "data": {
      "image/png": "[encoded data removed]",
      "text/plain": [
       "<Figure size 640x480 with 1 Axes>"
      ]
     },
     "metadata": {},
     "output_type": "display_data"
    }
   ],
   "source": [
    "print(n)\n",
    "plt.plot(costs)"
   ]
  },
  {
   "cell_type": "code",
   "execution_count": 91,
   "metadata": {},
   "outputs": [],
   "source": [
    "# el = \"db3\"\n",
    "# for i in range(len(grads_list)):\n",
    "#     a1 = grads_list[0][el]\n",
    "#     a2 = grads_list[1][el]\n",
    "#     print(a2-a1)\n",
    "#     print('___')"
   ]
  },
  {
   "cell_type": "code",
   "execution_count": 115,
   "metadata": {},
   "outputs": [
    {
     "name": "stdout",
     "output_type": "stream",
     "text": [
      "[[6.17968139e-02]\n",
      " [2.66363305e-04]\n",
      " [9.84289341e-06]]\n",
      "___\n",
      "[[6.17968139e-02]\n",
      " [2.66363305e-04]\n",
      " [9.84289341e-06]]\n",
      "___\n",
      "[[6.17968139e-02]\n",
      " [2.66363305e-04]\n",
      " [9.84289341e-06]]\n",
      "___\n",
      "[[6.17968139e-02]\n",
      " [2.66363305e-04]\n",
      " [9.84289341e-06]]\n",
      "___\n",
      "[[6.17968139e-02]\n",
      " [2.66363305e-04]\n",
      " [9.84289341e-06]]\n",
      "___\n",
      "[[6.17968139e-02]\n",
      " [2.66363305e-04]\n",
      " [9.84289341e-06]]\n",
      "___\n",
      "[[6.17968139e-02]\n",
      " [2.66363305e-04]\n",
      " [9.84289341e-06]]\n",
      "___\n",
      "[[6.17968139e-02]\n",
      " [2.66363305e-04]\n",
      " [9.84289341e-06]]\n",
      "___\n",
      "[[6.17968139e-02]\n",
      " [2.66363305e-04]\n",
      " [9.84289341e-06]]\n",
      "___\n",
      "[[6.17968139e-02]\n",
      " [2.66363305e-04]\n",
      " [9.84289341e-06]]\n",
      "___\n",
      "[[6.17968139e-02]\n",
      " [2.66363305e-04]\n",
      " [9.84289341e-06]]\n",
      "___\n",
      "[[6.17968139e-02]\n",
      " [2.66363305e-04]\n",
      " [9.84289341e-06]]\n",
      "___\n",
      "[[6.17968139e-02]\n",
      " [2.66363305e-04]\n",
      " [9.84289341e-06]]\n",
      "___\n",
      "[[6.17968139e-02]\n",
      " [2.66363305e-04]\n",
      " [9.84289341e-06]]\n",
      "___\n",
      "[[6.17968139e-02]\n",
      " [2.66363305e-04]\n",
      " [9.84289341e-06]]\n",
      "___\n",
      "[[6.17968139e-02]\n",
      " [2.66363305e-04]\n",
      " [9.84289341e-06]]\n",
      "___\n",
      "[[6.17968139e-02]\n",
      " [2.66363305e-04]\n",
      " [9.84289341e-06]]\n",
      "___\n",
      "[[6.17968139e-02]\n",
      " [2.66363305e-04]\n",
      " [9.84289341e-06]]\n",
      "___\n",
      "[[6.17968139e-02]\n",
      " [2.66363305e-04]\n",
      " [9.84289341e-06]]\n",
      "___\n",
      "[[6.17968139e-02]\n",
      " [2.66363305e-04]\n",
      " [9.84289341e-06]]\n",
      "___\n",
      "[[6.17968139e-02]\n",
      " [2.66363305e-04]\n",
      " [9.84289341e-06]]\n",
      "___\n",
      "[[6.17968139e-02]\n",
      " [2.66363305e-04]\n",
      " [9.84289341e-06]]\n",
      "___\n",
      "[[6.17968139e-02]\n",
      " [2.66363305e-04]\n",
      " [9.84289341e-06]]\n",
      "___\n",
      "[[6.17968139e-02]\n",
      " [2.66363305e-04]\n",
      " [9.84289341e-06]]\n",
      "___\n"
     ]
    }
   ],
   "source": [
    "el = \"b1\"\n",
    "for i in range(len(params_list)-1):\n",
    "    a1 = params_list[i][el]\n",
    "    a2 = params_list[i+1][el]\n",
    "    print(a1)\n",
    "    #print(a2-a1)\n",
    "    print('___')"
   ]
  },
  {
   "cell_type": "code",
   "execution_count": 50,
   "metadata": {},
   "outputs": [],
   "source": [
    "\n",
    "a1 = grads_list[0][\"dA2\"]\n",
    "a2 = grads_list[1][\"dA2\"]"
   ]
  },
  {
   "cell_type": "code",
   "execution_count": 51,
   "metadata": {},
   "outputs": [
    {
     "data": {
      "text/plain": [
       "array([[ 2.65938089e-05,  2.65938089e-05, -1.58047322e-04,\n",
       "         2.65938089e-05,  2.65938089e-05,  2.65936853e-05,\n",
       "         2.65938089e-05, -1.58047446e-04,  2.65938089e-05,\n",
       "         2.65938089e-05,  2.65938089e-05, -1.58047322e-04,\n",
       "         2.65938089e-05, -1.58047322e-04, -1.58048085e-04,\n",
       "         2.65937880e-05,  2.65938089e-05,  2.65934936e-05,\n",
       "         2.65938089e-05, -1.58047322e-04,  2.65938089e-05,\n",
       "         2.65938089e-05,  2.65938089e-05,  2.65936853e-05,\n",
       "        -1.58047322e-04, -1.58047446e-04,  2.65931740e-05,\n",
       "        -1.58047322e-04,  2.65926646e-05, -1.58047322e-04,\n",
       "         2.65912840e-05,  2.65938089e-05,  2.65926384e-05,\n",
       "         2.65938089e-05,  2.65938089e-05,  2.65938089e-05,\n",
       "         2.65938089e-05,  2.65938089e-05, -1.58047322e-04,\n",
       "         2.65936853e-05,  2.65938089e-05, -1.58047322e-04,\n",
       "        -1.58047682e-04,  2.65938089e-05,  2.65936853e-05,\n",
       "         2.65938089e-05,  2.65938089e-05, -1.58047727e-04,\n",
       "         2.65938089e-05,  2.65938089e-05, -1.58047322e-04,\n",
       "         2.65938089e-05,  2.65938089e-05,  2.65938089e-05,\n",
       "        -1.58048405e-04,  2.65936853e-05, -1.58047322e-04,\n",
       "        -1.58047322e-04,  2.65934617e-05, -1.58047322e-04,\n",
       "        -1.58047322e-04, -1.58047322e-04,  2.65921992e-05,\n",
       "         2.65938089e-05,  2.65938089e-05,  2.65921727e-05,\n",
       "         2.65936853e-05,  2.65928717e-05, -1.58047322e-04,\n",
       "         2.65938089e-05,  2.65936853e-05, -1.58047322e-04,\n",
       "         2.65938089e-05,  2.65919630e-05,  2.65933263e-05,\n",
       "         2.65938089e-05,  2.65938089e-05,  2.65938089e-05,\n",
       "         2.65938089e-05,  2.65938089e-05,  2.65928112e-05,\n",
       "         2.65938089e-05,  2.65935703e-05, -1.58047446e-04,\n",
       "        -1.58047322e-04,  2.65938089e-05,  2.65938089e-05,\n",
       "         2.65938089e-05, -1.58047446e-04,  2.65932906e-05,\n",
       "         2.65938089e-05,  2.65938089e-05, -1.58047322e-04,\n",
       "        -1.58047322e-04, -1.58047446e-04,  2.65938089e-05,\n",
       "         2.65938089e-05, -1.58047485e-04,  2.65938089e-05,\n",
       "         2.65938089e-05,  2.65936853e-05,  2.65938089e-05,\n",
       "        -1.58047322e-04,  2.65921629e-05, -1.58047322e-04,\n",
       "         2.65927875e-05, -1.58047446e-04, -1.58047446e-04,\n",
       "        -1.58047637e-04, -1.58047322e-04, -1.58047322e-04,\n",
       "        -1.58047322e-04,  2.65938089e-05,  2.65938089e-05,\n",
       "         2.65938089e-05,  2.65938089e-05,  2.65936853e-05,\n",
       "        -1.58047446e-04,  2.65938089e-05,  2.65936853e-05,\n",
       "         2.65938089e-05, -1.58047322e-04,  2.65924052e-05,\n",
       "         2.65938089e-05, -1.58047322e-04,  2.65938089e-05,\n",
       "        -1.58047664e-04,  2.65935179e-05, -1.58047322e-04,\n",
       "        -1.58047322e-04,  2.65938089e-05,  2.65936853e-05,\n",
       "         2.65938089e-05, -1.58047322e-04, -1.58047322e-04,\n",
       "        -1.58047322e-04, -1.58047322e-04, -1.58047322e-04,\n",
       "         2.65915429e-05,  2.65938089e-05,  2.65938089e-05,\n",
       "         2.65936911e-05, -1.58047322e-04,  2.65927492e-05,\n",
       "        -1.58047322e-04, -1.58047446e-04, -1.58047322e-04,\n",
       "         2.65938089e-05, -1.58048431e-04, -1.58047446e-04,\n",
       "         2.65933605e-05,  2.65938089e-05,  2.65938089e-05,\n",
       "        -1.58047446e-04,  2.65938089e-05,  2.65938089e-05,\n",
       "        -1.58047322e-04,  2.65938089e-05,  2.65938089e-05,\n",
       "         2.65938089e-05,  2.65930283e-05,  2.65938089e-05,\n",
       "        -1.58047322e-04,  2.65936853e-05, -1.58047322e-04,\n",
       "         2.65938089e-05, -1.58047322e-04,  2.65938089e-05,\n",
       "         2.65930624e-05, -1.58047322e-04, -1.58047419e-04,\n",
       "        -1.58047446e-04,  2.65938089e-05,  2.65938089e-05,\n",
       "        -1.58047446e-04, -1.58047322e-04,  2.65910074e-05,\n",
       "        -1.58047322e-04,  2.65938089e-05, -1.58048604e-04,\n",
       "         2.65936853e-05,  2.65938089e-05,  2.65938089e-05,\n",
       "         2.65932380e-05,  2.65938089e-05, -1.58047869e-04,\n",
       "         2.65938089e-05,  2.65938089e-05, -1.58047446e-04,\n",
       "         2.65891291e-05,  2.65936456e-05,  2.65938089e-05,\n",
       "        -1.58047322e-04,  2.65938089e-05,  2.65928597e-05,\n",
       "         2.65936853e-05,  2.65938089e-05, -1.58047322e-04,\n",
       "         2.65938089e-05,  2.65938089e-05, -1.58047322e-04,\n",
       "         2.65926909e-05,  2.65938089e-05,  2.65938089e-05,\n",
       "         2.65938089e-05,  2.65938089e-05,  2.65933410e-05,\n",
       "         2.65935980e-05,  2.65938089e-05],\n",
       "       [-9.46564270e-05, -9.46564270e-05, -9.46564270e-05,\n",
       "        -9.46564270e-05, -9.46564270e-05, -9.46566050e-05,\n",
       "        -9.46564270e-05, -9.46566050e-05, -9.46564270e-05,\n",
       "        -9.46564270e-05, -9.46564270e-05, -9.46564270e-05,\n",
       "        -9.46564270e-05, -9.46564270e-05, -9.46572327e-05,\n",
       "        -9.46564570e-05, -9.46564270e-05, -9.46568811e-05,\n",
       "        -9.46564270e-05, -9.46564270e-05, -9.46564270e-05,\n",
       "        -9.46564270e-05, -9.46564270e-05, -9.46566050e-05,\n",
       "        -9.46564270e-05, -9.46566050e-05, -9.46570982e-05,\n",
       "        -9.46564270e-05, -9.46574575e-05, -9.46564270e-05,\n",
       "        -9.46584443e-05, -9.46564270e-05, -9.46575051e-05,\n",
       "        -9.46564270e-05, -9.46564270e-05, -9.46564270e-05,\n",
       "        -9.46564270e-05, -9.46564270e-05, -9.46564270e-05,\n",
       "        -9.46566050e-05, -9.46564270e-05, -9.46564270e-05,\n",
       "        -9.46569151e-05, -9.46564270e-05, -9.46566050e-05,\n",
       "        -9.46564270e-05, -9.46564270e-05, -9.46569088e-05,\n",
       "        -9.46564270e-05, -9.46564270e-05, -9.46564270e-05,\n",
       "        -9.46564270e-05, -9.46564270e-05, -9.46564270e-05,\n",
       "        -9.46574073e-05, -9.46566050e-05, -9.46564270e-05,\n",
       "        -9.46564270e-05, -9.46568262e-05, -9.46564270e-05,\n",
       "        -9.46564270e-05, -9.46564270e-05, -9.46578505e-05,\n",
       "        -9.46564270e-05, -9.46564270e-05, -9.46578095e-05,\n",
       "        -9.46566050e-05, -9.46573251e-05, -9.46564270e-05,\n",
       "        -9.46564270e-05, -9.46566050e-05, -9.46564270e-05,\n",
       "        -9.46564270e-05, -9.46579798e-05, -9.46570034e-05,\n",
       "        -9.46564270e-05, -9.46564270e-05, -9.46564270e-05,\n",
       "        -9.46564270e-05, -9.46564270e-05, -9.46573798e-05,\n",
       "        -9.46564270e-05, -9.46567584e-05, -9.46566050e-05,\n",
       "        -9.46564270e-05, -9.46564270e-05, -9.46564270e-05,\n",
       "        -9.46564270e-05, -9.46566050e-05, -9.46569669e-05,\n",
       "        -9.46564270e-05, -9.46564270e-05, -9.46564270e-05,\n",
       "        -9.46564270e-05, -9.46566050e-05, -9.46564270e-05,\n",
       "        -9.46564270e-05, -9.46566605e-05, -9.46564270e-05,\n",
       "        -9.46564270e-05, -9.46566050e-05, -9.46564270e-05,\n",
       "        -9.46564270e-05, -9.46578524e-05, -9.46564270e-05,\n",
       "        -9.46574328e-05, -9.46566050e-05, -9.46566050e-05,\n",
       "        -9.46568577e-05, -9.46564270e-05, -9.46564270e-05,\n",
       "        -9.46564270e-05, -9.46564270e-05, -9.46564270e-05,\n",
       "        -9.46564270e-05, -9.46564270e-05, -9.46566050e-05,\n",
       "        -9.46566050e-05, -9.46564270e-05, -9.46566050e-05,\n",
       "        -9.46564270e-05, -9.46564270e-05, -9.46576615e-05,\n",
       "        -9.46564270e-05, -9.46564270e-05, -9.46564270e-05,\n",
       "        -9.46568901e-05, -9.46568205e-05, -9.46564270e-05,\n",
       "        -9.46564270e-05, -9.46564270e-05, -9.46566050e-05,\n",
       "        -9.46564270e-05, -9.46564270e-05, -9.46564270e-05,\n",
       "        -9.46564270e-05, -9.46564270e-05, -9.46564270e-05,\n",
       "        -9.46583205e-05, -9.46564270e-05, -9.46564270e-05,\n",
       "        -9.46565966e-05, -9.46564270e-05, -9.46573639e-05,\n",
       "        -9.46564270e-05, -9.46566050e-05, -9.46564270e-05,\n",
       "        -9.46564270e-05, -9.46573972e-05, -9.46566050e-05,\n",
       "        -9.46570185e-05, -9.46564270e-05, -9.46564270e-05,\n",
       "        -9.46566050e-05, -9.46564270e-05, -9.46564270e-05,\n",
       "        -9.46564270e-05, -9.46564270e-05, -9.46564270e-05,\n",
       "        -9.46564270e-05, -9.46571937e-05, -9.46564270e-05,\n",
       "        -9.46564270e-05, -9.46566050e-05, -9.46564270e-05,\n",
       "        -9.46564270e-05, -9.46564270e-05, -9.46564270e-05,\n",
       "        -9.46571712e-05, -9.46564270e-05, -9.46565658e-05,\n",
       "        -9.46566050e-05, -9.46564270e-05, -9.46564270e-05,\n",
       "        -9.46566050e-05, -9.46564270e-05, -9.46587044e-05,\n",
       "        -9.46564270e-05, -9.46564270e-05, -9.46575807e-05,\n",
       "        -9.46566050e-05, -9.46564270e-05, -9.46564270e-05,\n",
       "        -9.46571028e-05, -9.46564270e-05, -9.46570437e-05,\n",
       "        -9.46564270e-05, -9.46564270e-05, -9.46566050e-05,\n",
       "        -9.46600872e-05, -9.46566622e-05, -9.46564270e-05,\n",
       "        -9.46564270e-05, -9.46564270e-05, -9.46573263e-05,\n",
       "        -9.46566050e-05, -9.46564270e-05, -9.46564270e-05,\n",
       "        -9.46564270e-05, -9.46564270e-05, -9.46564270e-05,\n",
       "        -9.46574862e-05, -9.46564270e-05, -9.46564270e-05,\n",
       "        -9.46564270e-05, -9.46564270e-05, -9.46569988e-05,\n",
       "        -9.46566981e-05, -9.46564270e-05]])"
      ]
     },
     "execution_count": 51,
     "metadata": {},
     "output_type": "execute_result"
    }
   ],
   "source": [
    "a1-a2"
   ]
  },
  {
   "cell_type": "markdown",
   "metadata": {},
   "source": [
    "## predict"
   ]
  },
  {
   "cell_type": "code",
   "execution_count": null,
   "metadata": {},
   "outputs": [],
   "source": [
    "def predict(params, X, threshold = 0.5):\n",
    "    \"\"\"Predicts the output of the logistic regression.\n",
    "\n",
    "    Args:\n",
    "        - params: dictionary of the model parameters: {\"W\": W, \"b\": b}\n",
    "        - X: a matrix of observations. Shape: (n_0, ?)\n",
    "        - threshold: threshold to use for the prediction (default 0.5 means: if p >= 0.5, we predict 1, else 0)\n",
    "    \n",
    "    Returns:\n",
    "        - Yp: vector of predictions.\n",
    "    \"\"\"\n",
    "    ### START CODE ###\n",
    "    Al, caches = forward_propagate(params, X)\n",
    "    Yp = 1*(Al >= threshold)\n",
    "    ### START CODE ###\n",
    "\n",
    "    return Yp"
   ]
  },
  {
   "cell_type": "code",
   "execution_count": null,
   "metadata": {},
   "outputs": [],
   "source": [
    "predict(params, X_train)"
   ]
  },
  {
   "cell_type": "markdown",
   "metadata": {},
   "source": [
    "## evaluate the performance"
   ]
  },
  {
   "cell_type": "code",
   "execution_count": null,
   "metadata": {},
   "outputs": [],
   "source": [
    "def evaluate_performance(X_train, Y_train, X_test, Y_test, params, print_perf=True):\n",
    "    \"\"\"Evaluates the performance of the logistic regression.\n",
    "    \n",
    "    Args:\n",
    "        - X_train: matrix of observations for the training set\n",
    "        - Y_train: ground truths for the training set\n",
    "        - X_test: matrix of observations for the test set\n",
    "        - Y_test: ground truths for the test set\n",
    "        - params: the logistic regression parameters\n",
    "        - print_perf: boolean. If true, prints the performance on the train and test set, as well as the baseline performance.\n",
    "\n",
    "    Returns:\n",
    "        - (acc_train, acc_test) where:\n",
    "            - acc_train: accuracy on the train set\n",
    "            - acc_test: accuracy on the test set\n",
    "    \"\"\"\n",
    "    ### START CODE ###\n",
    "    Yp_train = predict(params, X_train)\n",
    "    Yp_test = predict(params, X_test)\n",
    "    \n",
    "    acc_train = np.mean(Yp_train == Y_train)\n",
    "    acc_test = np.mean(Yp_test == Y_test)\n",
    "\n",
    "    if print_perf:\n",
    "        print(f'train accuracy: {acc_train:.1%}')\n",
    "        print(f'test accuracy: {acc_test:.1%}')\n",
    "        print(\"\")\n",
    "        \n",
    "        acc_bs_one = (Y_test == 1).mean()\n",
    "        acc_bs_zero = (Y_test == 0).mean()\n",
    "        print('baseline:')\n",
    "        print(f'test accuracy, model always predicts \"1\": {acc_bs_one:.1%}')\n",
    "        print(f'test accuracy, model always predicts \"0\": {acc_bs_zero:.1%}')\n",
    "    ### START CODE ###\n",
    "\n",
    "    \n",
    "    return acc_train, acc_test"
   ]
  },
  {
   "cell_type": "code",
   "execution_count": null,
   "metadata": {},
   "outputs": [],
   "source": [
    "evaluate_performance(X_train, Y_train, X_test, Y_test, params)"
   ]
  },
  {
   "cell_type": "markdown",
   "metadata": {},
   "source": [
    "## predict on a custom image"
   ]
  },
  {
   "cell_type": "markdown",
   "metadata": {},
   "source": [
    "Now that you have trained the logistic regression, it's important to know how to load a custom image and predict on it.\n",
    "\n",
    "**Note**: you have nothing to code in this section. Just run the code, and understand it !"
   ]
  },
  {
   "cell_type": "code",
   "execution_count": null,
   "metadata": {},
   "outputs": [],
   "source": [
    "from PIL import Image\n",
    "\n",
    "#path_img = Path(\"../../data/catvnoncat/cat_11.jpeg\")\n",
    "path_img = Path(\"../../data/catvnoncat/Cat_March_2010-1.jpeg\")"
   ]
  },
  {
   "cell_type": "code",
   "execution_count": null,
   "metadata": {},
   "outputs": [],
   "source": [
    "def load_and_resize_image(path_img, target_size = (64,64)):\n",
    "    img = Image.open(path_img)\n",
    "    img = img.resize(target_size)\n",
    "    X_img = np.array(img)\n",
    "    X_img = np.expand_dims(X_img, axis=0)\n",
    "    return X_img"
   ]
  },
  {
   "cell_type": "code",
   "execution_count": null,
   "metadata": {},
   "outputs": [],
   "source": [
    "X_img = load_and_resize_image(path_img)"
   ]
  },
  {
   "cell_type": "code",
   "execution_count": null,
   "metadata": {},
   "outputs": [],
   "source": [
    "## image originelle\n",
    "img = Image.open(path_img)\n",
    "img"
   ]
  },
  {
   "cell_type": "code",
   "execution_count": null,
   "metadata": {},
   "outputs": [],
   "source": [
    "## image après resizing\n",
    "plt.imshow(X_img[0])"
   ]
  },
  {
   "cell_type": "code",
   "execution_count": null,
   "metadata": {},
   "outputs": [],
   "source": [
    "X_img, _ = preprocess_data(X_img)"
   ]
  },
  {
   "cell_type": "code",
   "execution_count": null,
   "metadata": {},
   "outputs": [],
   "source": [
    "predict(params, X_img)"
   ]
  },
  {
   "cell_type": "markdown",
   "metadata": {},
   "source": [
    "# EXPERIMENTS"
   ]
  },
  {
   "cell_type": "markdown",
   "metadata": {},
   "source": [
    "Nothing to code in this section, you can run the code directly and experiment with different values of the hyperparameters"
   ]
  },
  {
   "cell_type": "markdown",
   "metadata": {},
   "source": [
    "## experiment with the learning rate"
   ]
  },
  {
   "cell_type": "code",
   "execution_count": null,
   "metadata": {},
   "outputs": [],
   "source": [
    "def experiment_with_learning_rate(X_train, Y_train, X_test, Y_test, learning_rates, nb_iterations=2000):\n",
    "    \"\"\"Experiments training the logistic regression with different learning rates.\n",
    "    \n",
    "    Args:\n",
    "        - X_train: matrix of observations for the train set\n",
    "        - Y_train: ground truths for the train set\n",
    "        - X_test: matrix of observations for the test set\n",
    "        - Y_test: ground truths for the test set\n",
    "        - learning_rates: list of learning rates to test\n",
    "        - nb_iterations: number of iterations to train the logistic regression\n",
    "\n",
    "    Displays:\n",
    "        - the graph \"cost = f(nb iterations)\" for each learning rate\n",
    "        - the train and test set accuracy for each learning rate\n",
    "\n",
    "    Returns:\n",
    "        - None\n",
    "    \"\"\"\n",
    "    res_cost = dict()\n",
    "    res_acc = dict() \n",
    "\n",
    "    for lr in learning_rates:\n",
    "        params, costs = train(X_train, Y_train, nb_iterations, lr)\n",
    "        acc_train, acc_test = evaluate_performance(X_train, Y_train, X_test, Y_test, params, print_perf=False)\n",
    "\n",
    "        res_cost[lr] = costs\n",
    "        res_acc[lr] = (acc_train, acc_test)\n",
    "        \n",
    "        plt.plot(res_cost[lr], label= lr)\n",
    "    \n",
    "    ## display the evolution of the cost\n",
    "    plt.xlabel = \"iteration ( % 100)\"\n",
    "    plt.ylabel = \"cost\"\n",
    "    plt.legend(loc='upper center', shadow=True)\n",
    "    plt.show()\n",
    "\n",
    "    ## display the accuracy\n",
    "    for lr in learning_rates:\n",
    "        print(f'LR = {lr} / train accuracy = {res_acc[lr][0]:.1%}, test accuracy = {res_acc[lr][1]:.1%}')\n"
   ]
  },
  {
   "cell_type": "code",
   "execution_count": null,
   "metadata": {},
   "outputs": [],
   "source": [
    "learning_rates = [10**-4, 10**-3, 10**-2]\n",
    "experiment_with_learning_rate(X_train, Y_train, X_test, Y_test, learning_rates)"
   ]
  }
 ],
 "metadata": {
  "kernelspec": {
   "display_name": "Python 3.9.15 ('.venv': poetry)",
   "language": "python",
   "name": "python3"
  },
  "language_info": {
   "codemirror_mode": {
    "name": "ipython",
    "version": 3
   },
   "file_extension": ".py",
   "mimetype": "text/x-python",
   "name": "python",
   "nbconvert_exporter": "python",
   "pygments_lexer": "ipython3",
   "version": "3.9.15"
  },
  "orig_nbformat": 4,
  "vscode": {
   "interpreter": {
    "hash": "a19105ebd9057427e746efa9b30330b5b6764df49ff5bc57f6bbe079f3f763c4"
   }
  }
 },
 "nbformat": 4,
 "nbformat_minor": 2
}
